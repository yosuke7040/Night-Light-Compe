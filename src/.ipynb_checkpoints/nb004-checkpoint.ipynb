{
 "cells": [
  {
   "cell_type": "markdown",
   "metadata": {},
   "source": [
    "solafune:夜間光コンペ Baseline(xgb,lgb,cat)(by tubo)\n",
    "\n",
    "https://qiita.com/tubo/items/f83a97f2488cc1f40088 の写経"
   ]
  },
  {
   "cell_type": "code",
   "execution_count": 5,
   "metadata": {},
   "outputs": [
    {
     "name": "stdout",
     "output_type": "stream",
     "text": [
      "/src/Solafune/夜間光データから土地価格を予測/src\n"
     ]
    }
   ],
   "source": [
    "import os\n",
    "import pandas as pd\n",
    "import numpy as np\n",
    "import matplotlib.pyplot as plt\n",
    "import seaborn as sns\n",
    "from matplotlib_venn import venn2\n",
    "from ptitprince import RainCloud\n",
    "\n",
    "from pandas_profiling import ProfileReport\n",
    "\n",
    "print(os.getcwd())"
   ]
  },
  {
   "cell_type": "code",
   "execution_count": 6,
   "metadata": {},
   "outputs": [],
   "source": [
    "INPUT_DIR = '/src/Solafune/夜間光データから土地価格を予測/data/inputs/'\n",
    "OUTPUT_DIR = '/src/Solafune/夜間光データから土地価格を予測/data/outputs/'\n",
    "NB_NAME = 'nb004'\n",
    "\n",
    "os.makedirs(OUTPUT_DIR, exist_ok=True)\n",
    "\n",
    "train_df = pd.read_csv(os.path.join(INPUT_DIR, 'TrainDataSet.csv'))\n",
    "test_df = pd.read_csv(os.path.join(INPUT_DIR, 'EvaluationData.csv'))"
   ]
  },
  {
   "cell_type": "code",
   "execution_count": 7,
   "metadata": {},
   "outputs": [
    {
     "data": {
      "text/plain": [
       "(21883, 5)"
      ]
     },
     "execution_count": 7,
     "metadata": {},
     "output_type": "execute_result"
    }
   ],
   "source": [
    "train_df.shape"
   ]
  },
  {
   "cell_type": "code",
   "execution_count": 8,
   "metadata": {},
   "outputs": [],
   "source": [
    "target = train_df['AverageLandPrice']"
   ]
  },
  {
   "cell_type": "code",
   "execution_count": 9,
   "metadata": {},
   "outputs": [],
   "source": [
    "class BaseBlock(object):\n",
    "    def fit(self, input_df, y=None):\n",
    "        return self.transform(input_df)\n",
    "    \n",
    "    def transform(self, input_df):\n",
    "        raise NotImplementedError()"
   ]
  },
  {
   "cell_type": "code",
   "execution_count": 10,
   "metadata": {},
   "outputs": [],
   "source": [
    "class LagBlock(BaseBlock):\n",
    "    def __init__(self, lag:int, cols):\n",
    "        self.lag = lag\n",
    "        self.cols = cols\n",
    "        \n",
    "    def transform(self, input_df):\n",
    "        # Yearはちゃんと時系列順になってるか全部は見てない\n",
    "        output_df = input_df.groupby('PlaceID')[self.cols].diff(self.lag)\n",
    "        return output_df.add_prefix(f'Lag_{self.lag}')"
   ]
  },
  {
   "cell_type": "code",
   "execution_count": 11,
   "metadata": {},
   "outputs": [
    {
     "data": {
      "text/html": [
       "<div>\n",
       "<style scoped>\n",
       "    .dataframe tbody tr th:only-of-type {\n",
       "        vertical-align: middle;\n",
       "    }\n",
       "\n",
       "    .dataframe tbody tr th {\n",
       "        vertical-align: top;\n",
       "    }\n",
       "\n",
       "    .dataframe thead th {\n",
       "        text-align: right;\n",
       "    }\n",
       "</style>\n",
       "<table border=\"1\" class=\"dataframe\">\n",
       "  <thead>\n",
       "    <tr style=\"text-align: right;\">\n",
       "      <th></th>\n",
       "      <th>Lag_1MeanLight</th>\n",
       "      <th>Lag_1SumLight</th>\n",
       "    </tr>\n",
       "  </thead>\n",
       "  <tbody>\n",
       "    <tr>\n",
       "      <th>0</th>\n",
       "      <td>NaN</td>\n",
       "      <td>NaN</td>\n",
       "    </tr>\n",
       "    <tr>\n",
       "      <th>1</th>\n",
       "      <td>5.142857</td>\n",
       "      <td>36.0</td>\n",
       "    </tr>\n",
       "    <tr>\n",
       "      <th>2</th>\n",
       "      <td>-0.857144</td>\n",
       "      <td>-6.0</td>\n",
       "    </tr>\n",
       "    <tr>\n",
       "      <th>3</th>\n",
       "      <td>-0.142856</td>\n",
       "      <td>-1.0</td>\n",
       "    </tr>\n",
       "    <tr>\n",
       "      <th>4</th>\n",
       "      <td>1.142856</td>\n",
       "      <td>8.0</td>\n",
       "    </tr>\n",
       "    <tr>\n",
       "      <th>...</th>\n",
       "      <td>...</td>\n",
       "      <td>...</td>\n",
       "    </tr>\n",
       "    <tr>\n",
       "      <th>21878</th>\n",
       "      <td>-0.661726</td>\n",
       "      <td>-4.0</td>\n",
       "    </tr>\n",
       "    <tr>\n",
       "      <th>21879</th>\n",
       "      <td>5.755319</td>\n",
       "      <td>541.0</td>\n",
       "    </tr>\n",
       "    <tr>\n",
       "      <th>21880</th>\n",
       "      <td>-4.138298</td>\n",
       "      <td>-389.0</td>\n",
       "    </tr>\n",
       "    <tr>\n",
       "      <th>21881</th>\n",
       "      <td>1.179536</td>\n",
       "      <td>42.0</td>\n",
       "    </tr>\n",
       "    <tr>\n",
       "      <th>21882</th>\n",
       "      <td>-0.764045</td>\n",
       "      <td>-68.0</td>\n",
       "    </tr>\n",
       "  </tbody>\n",
       "</table>\n",
       "<p>21883 rows × 2 columns</p>\n",
       "</div>"
      ],
      "text/plain": [
       "       Lag_1MeanLight  Lag_1SumLight\n",
       "0                 NaN            NaN\n",
       "1            5.142857           36.0\n",
       "2           -0.857144           -6.0\n",
       "3           -0.142856           -1.0\n",
       "4            1.142856            8.0\n",
       "...               ...            ...\n",
       "21878       -0.661726           -4.0\n",
       "21879        5.755319          541.0\n",
       "21880       -4.138298         -389.0\n",
       "21881        1.179536           42.0\n",
       "21882       -0.764045          -68.0\n",
       "\n",
       "[21883 rows x 2 columns]"
      ]
     },
     "execution_count": 11,
     "metadata": {},
     "output_type": "execute_result"
    }
   ],
   "source": [
    "lb = LagBlock(1, ['MeanLight', 'SumLight'])\n",
    "lb.transform(train_df)"
   ]
  },
  {
   "cell_type": "code",
   "execution_count": 12,
   "metadata": {},
   "outputs": [
    {
     "data": {
      "text/html": [
       "<div>\n",
       "<style scoped>\n",
       "    .dataframe tbody tr th:only-of-type {\n",
       "        vertical-align: middle;\n",
       "    }\n",
       "\n",
       "    .dataframe tbody tr th {\n",
       "        vertical-align: top;\n",
       "    }\n",
       "\n",
       "    .dataframe thead th {\n",
       "        text-align: right;\n",
       "    }\n",
       "</style>\n",
       "<table border=\"1\" class=\"dataframe\">\n",
       "  <thead>\n",
       "    <tr style=\"text-align: right;\">\n",
       "      <th></th>\n",
       "      <th>index</th>\n",
       "      <th>MeanLight</th>\n",
       "    </tr>\n",
       "  </thead>\n",
       "  <tbody>\n",
       "    <tr>\n",
       "      <th>0</th>\n",
       "      <td>0</td>\n",
       "      <td>NaN</td>\n",
       "    </tr>\n",
       "    <tr>\n",
       "      <th>1</th>\n",
       "      <td>1</td>\n",
       "      <td>5.142857</td>\n",
       "    </tr>\n",
       "    <tr>\n",
       "      <th>2</th>\n",
       "      <td>2</td>\n",
       "      <td>-0.857144</td>\n",
       "    </tr>\n",
       "    <tr>\n",
       "      <th>3</th>\n",
       "      <td>3</td>\n",
       "      <td>-0.142856</td>\n",
       "    </tr>\n",
       "    <tr>\n",
       "      <th>4</th>\n",
       "      <td>4</td>\n",
       "      <td>1.142856</td>\n",
       "    </tr>\n",
       "    <tr>\n",
       "      <th>...</th>\n",
       "      <td>...</td>\n",
       "      <td>...</td>\n",
       "    </tr>\n",
       "    <tr>\n",
       "      <th>21878</th>\n",
       "      <td>21878</td>\n",
       "      <td>-0.661726</td>\n",
       "    </tr>\n",
       "    <tr>\n",
       "      <th>21879</th>\n",
       "      <td>21879</td>\n",
       "      <td>5.755319</td>\n",
       "    </tr>\n",
       "    <tr>\n",
       "      <th>21880</th>\n",
       "      <td>21880</td>\n",
       "      <td>-4.138298</td>\n",
       "    </tr>\n",
       "    <tr>\n",
       "      <th>21881</th>\n",
       "      <td>21881</td>\n",
       "      <td>1.179536</td>\n",
       "    </tr>\n",
       "    <tr>\n",
       "      <th>21882</th>\n",
       "      <td>21882</td>\n",
       "      <td>-0.764045</td>\n",
       "    </tr>\n",
       "  </tbody>\n",
       "</table>\n",
       "<p>21883 rows × 2 columns</p>\n",
       "</div>"
      ],
      "text/plain": [
       "       index  MeanLight\n",
       "0          0        NaN\n",
       "1          1   5.142857\n",
       "2          2  -0.857144\n",
       "3          3  -0.142856\n",
       "4          4   1.142856\n",
       "...      ...        ...\n",
       "21878  21878  -0.661726\n",
       "21879  21879   5.755319\n",
       "21880  21880  -4.138298\n",
       "21881  21881   1.179536\n",
       "21882  21882  -0.764045\n",
       "\n",
       "[21883 rows x 2 columns]"
      ]
     },
     "execution_count": 12,
     "metadata": {},
     "output_type": "execute_result"
    }
   ],
   "source": [
    "train_df.groupby('PlaceID')['MeanLight'].diff(1).reset_index()"
   ]
  },
  {
   "cell_type": "code",
   "execution_count": 13,
   "metadata": {},
   "outputs": [
    {
     "data": {
      "text/plain": [
       "(21883,)"
      ]
     },
     "execution_count": 13,
     "metadata": {},
     "output_type": "execute_result"
    }
   ],
   "source": [
    "train_df.groupby('PlaceID')['MeanLight'].diff(1).shape"
   ]
  },
  {
   "cell_type": "code",
   "execution_count": 14,
   "metadata": {},
   "outputs": [],
   "source": [
    "# key毎の集約特徴量\n",
    "class GroupBlock(BaseBlock):\n",
    "    def __init__(self, key:str, function:str, target_col:list):\n",
    "        self.key = key\n",
    "        self.function = function\n",
    "        self.meta_df = None\n",
    "        self.target_col = target_col\n",
    "        \n",
    "    def transform(self, input_df):\n",
    "        _df = input_df[self.target_col].groupby(input_df[self.key])\n",
    "        # ここagg()のほうがわかりやすくね\n",
    "        agg = getattr(type(_df), self.function)\n",
    "        _df = agg(_df)\n",
    "        self.meta_df = _df\n",
    "        \n",
    "        out_df = pd.merge(input_df[self.key], self.meta_df, on=self.key, how='left').drop(columns=[self.key])\n",
    "        out_df = out_df.add_prefix(f'GE{self.function}_{self.key}_')\n",
    "        return out_df\n",
    "        "
   ]
  },
  {
   "cell_type": "code",
   "execution_count": 15,
   "metadata": {},
   "outputs": [
    {
     "data": {
      "text/html": [
       "<div>\n",
       "<style scoped>\n",
       "    .dataframe tbody tr th:only-of-type {\n",
       "        vertical-align: middle;\n",
       "    }\n",
       "\n",
       "    .dataframe tbody tr th {\n",
       "        vertical-align: top;\n",
       "    }\n",
       "\n",
       "    .dataframe thead th {\n",
       "        text-align: right;\n",
       "    }\n",
       "</style>\n",
       "<table border=\"1\" class=\"dataframe\">\n",
       "  <thead>\n",
       "    <tr style=\"text-align: right;\">\n",
       "      <th></th>\n",
       "      <th>GEmax_PlaceID_MeanLight</th>\n",
       "      <th>GEmax_PlaceID_SumLight</th>\n",
       "    </tr>\n",
       "  </thead>\n",
       "  <tbody>\n",
       "    <tr>\n",
       "      <th>0</th>\n",
       "      <td>62.857143</td>\n",
       "      <td>440.0</td>\n",
       "    </tr>\n",
       "    <tr>\n",
       "      <th>1</th>\n",
       "      <td>62.857143</td>\n",
       "      <td>440.0</td>\n",
       "    </tr>\n",
       "    <tr>\n",
       "      <th>2</th>\n",
       "      <td>62.857143</td>\n",
       "      <td>440.0</td>\n",
       "    </tr>\n",
       "    <tr>\n",
       "      <th>3</th>\n",
       "      <td>62.857143</td>\n",
       "      <td>440.0</td>\n",
       "    </tr>\n",
       "    <tr>\n",
       "      <th>4</th>\n",
       "      <td>62.857143</td>\n",
       "      <td>440.0</td>\n",
       "    </tr>\n",
       "    <tr>\n",
       "      <th>...</th>\n",
       "      <td>...</td>\n",
       "      <td>...</td>\n",
       "    </tr>\n",
       "    <tr>\n",
       "      <th>21878</th>\n",
       "      <td>16.734043</td>\n",
       "      <td>1573.0</td>\n",
       "    </tr>\n",
       "    <tr>\n",
       "      <th>21879</th>\n",
       "      <td>16.734043</td>\n",
       "      <td>1573.0</td>\n",
       "    </tr>\n",
       "    <tr>\n",
       "      <th>21880</th>\n",
       "      <td>16.734043</td>\n",
       "      <td>1573.0</td>\n",
       "    </tr>\n",
       "    <tr>\n",
       "      <th>21881</th>\n",
       "      <td>16.734043</td>\n",
       "      <td>1573.0</td>\n",
       "    </tr>\n",
       "    <tr>\n",
       "      <th>21882</th>\n",
       "      <td>16.734043</td>\n",
       "      <td>1573.0</td>\n",
       "    </tr>\n",
       "  </tbody>\n",
       "</table>\n",
       "<p>21883 rows × 2 columns</p>\n",
       "</div>"
      ],
      "text/plain": [
       "       GEmax_PlaceID_MeanLight  GEmax_PlaceID_SumLight\n",
       "0                    62.857143                   440.0\n",
       "1                    62.857143                   440.0\n",
       "2                    62.857143                   440.0\n",
       "3                    62.857143                   440.0\n",
       "4                    62.857143                   440.0\n",
       "...                        ...                     ...\n",
       "21878                16.734043                  1573.0\n",
       "21879                16.734043                  1573.0\n",
       "21880                16.734043                  1573.0\n",
       "21881                16.734043                  1573.0\n",
       "21882                16.734043                  1573.0\n",
       "\n",
       "[21883 rows x 2 columns]"
      ]
     },
     "execution_count": 15,
     "metadata": {},
     "output_type": "execute_result"
    }
   ],
   "source": [
    "lb = GroupBlock('PlaceID', 'max', ['MeanLight', 'SumLight'])\n",
    "lb.fit(train_df)"
   ]
  },
  {
   "cell_type": "code",
   "execution_count": 16,
   "metadata": {},
   "outputs": [],
   "source": [
    "class WrapperBlock(BaseBlock):\n",
    "    def __init__(self, function):\n",
    "        self.function=function\n",
    "        \n",
    "    def transform(self, input_df):\n",
    "        return self.function(input_df)"
   ]
  },
  {
   "cell_type": "code",
   "execution_count": 17,
   "metadata": {},
   "outputs": [],
   "source": [
    "from contextlib import contextmanager\n",
    "from time import time\n",
    "\n",
    "@contextmanager\n",
    "def timer(logger=None,format_str='{:.3f}[s]',prefix=None,suffix=None):\n",
    "    if prefix: format_str = str(prefix) + format_str\n",
    "    if suffix: format_str = format_str + str(suffix)\n",
    "    start = time()\n",
    "    yield\n",
    "    d = time()-start\n",
    "    out_str = format_str.format(d)\n",
    "    if logger:\n",
    "        logger.info(out_str)\n",
    "    else:\n",
    "        print(out_str)"
   ]
  },
  {
   "cell_type": "code",
   "execution_count": 18,
   "metadata": {},
   "outputs": [],
   "source": [
    "from tqdm import tqdm\n",
    "\n",
    "def get_function(block, is_train):\n",
    "    s = mapping = {\n",
    "        True:'fit',\n",
    "        False:'transform'\n",
    "    }.get(is_train)\n",
    "    return getattr(block, s)\n",
    "\n",
    "def to_feature(input_df, blocks, is_train=False):\n",
    "    out_df = pd.DataFrame()\n",
    "    \n",
    "    for block in tqdm(blocks, total=len(blocks)):\n",
    "        func = get_function(block, is_train)\n",
    "        \n",
    "        with timer(prefix='create' + str(block) + ' '):\n",
    "            _df = func(input_df)\n",
    "            \n",
    "        assert len(_df) == len(input_df), func._name_\n",
    "        out_df = pd.concat([out_df, _df], axis=1)\n",
    "        \n",
    "    return out_df"
   ]
  },
  {
   "cell_type": "code",
   "execution_count": 19,
   "metadata": {},
   "outputs": [],
   "source": [
    "def create_some(df):\n",
    "    output_df = pd.DataFrame()\n",
    "    return output_df\n",
    "\n",
    "def identyty_function(input_df):\n",
    "    return input_df[use_col]"
   ]
  },
  {
   "cell_type": "code",
   "execution_count": 20,
   "metadata": {},
   "outputs": [
    {
     "name": "stderr",
     "output_type": "stream",
     "text": [
      " 12%|█▏        | 4/34 [00:00<00:01, 20.75it/s]"
     ]
    },
    {
     "name": "stdout",
     "output_type": "stream",
     "text": [
      "create<__main__.WrapperBlock object at 0x7fd814a7b510> 0.001[s]\n",
      "create<__main__.GroupBlock object at 0x7fd814a7b310> 0.006[s]\n",
      "create<__main__.GroupBlock object at 0x7fd814a7b650> 0.004[s]\n",
      "create<__main__.LagBlock object at 0x7fd814a7b710> 0.178[s]\n",
      "create<__main__.LagBlock object at 0x7fd814a7b790> 0.273[s]\n",
      "create<__main__.LagBlock object at 0x7fd814a7b1d0> 0.175[s]\n"
     ]
    },
    {
     "name": "stderr",
     "output_type": "stream",
     "text": [
      "\r",
      " 21%|██        | 7/34 [00:00<00:03,  6.90it/s]"
     ]
    },
    {
     "name": "stdout",
     "output_type": "stream",
     "text": [
      "create<__main__.LagBlock object at 0x7fd814a7b990> 0.253[s]\n",
      "create<__main__.LagBlock object at 0x7fd814a7ba10> 0.179[s]\n"
     ]
    },
    {
     "name": "stderr",
     "output_type": "stream",
     "text": [
      " 29%|██▉       | 10/34 [00:01<00:04,  5.54it/s]"
     ]
    },
    {
     "name": "stdout",
     "output_type": "stream",
     "text": [
      "create<__main__.LagBlock object at 0x7fd814a7bad0> 0.328[s]\n",
      "create<__main__.LagBlock object at 0x7fd814a7bb50> 0.175[s]\n"
     ]
    },
    {
     "name": "stderr",
     "output_type": "stream",
     "text": [
      " 35%|███▌      | 12/34 [00:02<00:04,  5.16it/s]"
     ]
    },
    {
     "name": "stdout",
     "output_type": "stream",
     "text": [
      "create<__main__.LagBlock object at 0x7fd814a7b590> 0.259[s]\n",
      "create<__main__.LagBlock object at 0x7fd814a7bc10> 0.179[s]\n"
     ]
    },
    {
     "name": "stderr",
     "output_type": "stream",
     "text": [
      " 41%|████      | 14/34 [00:02<00:04,  4.91it/s]"
     ]
    },
    {
     "name": "stdout",
     "output_type": "stream",
     "text": [
      "create<__main__.LagBlock object at 0x7fd814a7b090> 0.265[s]\n",
      "create<__main__.LagBlock object at 0x7fd814a7bc90> 0.178[s]\n"
     ]
    },
    {
     "name": "stderr",
     "output_type": "stream",
     "text": [
      "\r",
      " 44%|████▍     | 15/34 [00:02<00:04,  4.53it/s]"
     ]
    },
    {
     "name": "stdout",
     "output_type": "stream",
     "text": [
      "create<__main__.LagBlock object at 0x7fd814a7b6d0> 0.264[s]\n"
     ]
    },
    {
     "name": "stderr",
     "output_type": "stream",
     "text": [
      " 50%|█████     | 17/34 [00:03<00:03,  4.68it/s]"
     ]
    },
    {
     "name": "stdout",
     "output_type": "stream",
     "text": [
      "create<__main__.LagBlock object at 0x7fd814a7bd50> 0.245[s]\n",
      "create<__main__.LagBlock object at 0x7fd814a7bdd0> 0.173[s]\n"
     ]
    },
    {
     "name": "stderr",
     "output_type": "stream",
     "text": [
      " 56%|█████▌    | 19/34 [00:03<00:03,  4.79it/s]"
     ]
    },
    {
     "name": "stdout",
     "output_type": "stream",
     "text": [
      "create<__main__.LagBlock object at 0x7fd814a7b810> 0.257[s]\n",
      "create<__main__.LagBlock object at 0x7fd814a7be90> 0.163[s]\n"
     ]
    },
    {
     "name": "stderr",
     "output_type": "stream",
     "text": [
      " 62%|██████▏   | 21/34 [00:04<00:02,  4.78it/s]"
     ]
    },
    {
     "name": "stdout",
     "output_type": "stream",
     "text": [
      "create<__main__.LagBlock object at 0x7fd814a7bf10> 0.248[s]\n",
      "create<__main__.LagBlock object at 0x7fd814a7b950> 0.177[s]\n"
     ]
    },
    {
     "name": "stderr",
     "output_type": "stream",
     "text": [
      " 68%|██████▊   | 23/34 [00:04<00:02,  4.40it/s]"
     ]
    },
    {
     "name": "stdout",
     "output_type": "stream",
     "text": [
      "create<__main__.LagBlock object at 0x7fd814a7bfd0> 0.335[s]\n",
      "create<__main__.LagBlock object at 0x7fd814a7ba90> 0.177[s]\n"
     ]
    },
    {
     "name": "stderr",
     "output_type": "stream",
     "text": [
      " 74%|███████▎  | 25/34 [00:04<00:01,  4.50it/s]"
     ]
    },
    {
     "name": "stdout",
     "output_type": "stream",
     "text": [
      "create<__main__.LagBlock object at 0x7fd814a7be50> 0.264[s]\n",
      "create<__main__.LagBlock object at 0x7fd814a7bd10> 0.178[s]\n"
     ]
    },
    {
     "name": "stderr",
     "output_type": "stream",
     "text": [
      "\r",
      " 76%|███████▋  | 26/34 [00:05<00:01,  4.23it/s]"
     ]
    },
    {
     "name": "stdout",
     "output_type": "stream",
     "text": [
      "create<__main__.LagBlock object at 0x7fd814a7bbd0> 0.267[s]\n"
     ]
    },
    {
     "name": "stderr",
     "output_type": "stream",
     "text": [
      " 82%|████████▏ | 28/34 [00:05<00:01,  4.46it/s]"
     ]
    },
    {
     "name": "stdout",
     "output_type": "stream",
     "text": [
      "create<__main__.LagBlock object at 0x7fd814a7b250> 0.252[s]\n",
      "create<__main__.LagBlock object at 0x7fd814a7bf90> 0.176[s]\n"
     ]
    },
    {
     "name": "stderr",
     "output_type": "stream",
     "text": [
      " 88%|████████▊ | 30/34 [00:06<00:00,  4.52it/s]"
     ]
    },
    {
     "name": "stdout",
     "output_type": "stream",
     "text": [
      "create<__main__.LagBlock object at 0x7fd814a7b110> 0.268[s]\n",
      "create<__main__.LagBlock object at 0x7fd814a7b610> 0.176[s]\n"
     ]
    },
    {
     "name": "stderr",
     "output_type": "stream",
     "text": [
      " 94%|█████████▍| 32/34 [00:06<00:00,  4.57it/s]"
     ]
    },
    {
     "name": "stdout",
     "output_type": "stream",
     "text": [
      "create<__main__.LagBlock object at 0x7fd814a7b4d0> 0.263[s]\n",
      "create<__main__.LagBlock object at 0x7fd814a7b9d0> 0.174[s]\n"
     ]
    },
    {
     "name": "stderr",
     "output_type": "stream",
     "text": [
      "\r",
      " 97%|█████████▋| 33/34 [00:06<00:00,  4.27it/s]"
     ]
    },
    {
     "name": "stdout",
     "output_type": "stream",
     "text": [
      "create<__main__.LagBlock object at 0x7fd814a7b890> 0.264[s]\n"
     ]
    },
    {
     "name": "stderr",
     "output_type": "stream",
     "text": [
      "100%|██████████| 34/34 [00:07<00:00,  4.77it/s]\n",
      " 12%|█▏        | 4/34 [00:00<00:00, 34.63it/s]"
     ]
    },
    {
     "name": "stdout",
     "output_type": "stream",
     "text": [
      "create<__main__.LagBlock object at 0x7fd814a7bd90> 0.247[s]\n",
      "create<__main__.WrapperBlock object at 0x7fd814a7b510> 0.001[s]\n",
      "create<__main__.GroupBlock object at 0x7fd814a7b310> 0.004[s]\n",
      "create<__main__.GroupBlock object at 0x7fd814a7b650> 0.004[s]\n",
      "create<__main__.LagBlock object at 0x7fd814a7b710> 0.102[s]\n",
      "create<__main__.LagBlock object at 0x7fd814a7b790> 0.106[s]\n",
      "create<__main__.LagBlock object at 0x7fd814a7b1d0> 0.101[s]\n"
     ]
    },
    {
     "name": "stderr",
     "output_type": "stream",
     "text": [
      "\r",
      " 24%|██▎       | 8/34 [00:00<00:01, 13.69it/s]"
     ]
    },
    {
     "name": "stdout",
     "output_type": "stream",
     "text": [
      "create<__main__.LagBlock object at 0x7fd814a7b990> 0.101[s]\n",
      "create<__main__.LagBlock object at 0x7fd814a7ba10> 0.103[s]\n"
     ]
    },
    {
     "name": "stderr",
     "output_type": "stream",
     "text": [
      "\r",
      " 29%|██▉       | 10/34 [00:00<00:01, 12.10it/s]"
     ]
    },
    {
     "name": "stdout",
     "output_type": "stream",
     "text": [
      "create<__main__.LagBlock object at 0x7fd814a7bad0> 0.104[s]\n",
      "create<__main__.LagBlock object at 0x7fd814a7bb50> 0.104[s]\n"
     ]
    },
    {
     "name": "stderr",
     "output_type": "stream",
     "text": [
      "\r",
      " 35%|███▌      | 12/34 [00:00<00:01, 11.23it/s]"
     ]
    },
    {
     "name": "stdout",
     "output_type": "stream",
     "text": [
      "create<__main__.LagBlock object at 0x7fd814a7b590> 0.104[s]\n",
      "create<__main__.LagBlock object at 0x7fd814a7bc10> 0.102[s]\n"
     ]
    },
    {
     "name": "stderr",
     "output_type": "stream",
     "text": [
      "\r",
      " 41%|████      | 14/34 [00:01<00:01, 10.65it/s]"
     ]
    },
    {
     "name": "stdout",
     "output_type": "stream",
     "text": [
      "create<__main__.LagBlock object at 0x7fd814a7b090> 0.104[s]\n",
      "create<__main__.LagBlock object at 0x7fd814a7bc90> 0.103[s]\n"
     ]
    },
    {
     "name": "stderr",
     "output_type": "stream",
     "text": [
      "\r",
      " 47%|████▋     | 16/34 [00:01<00:01, 10.28it/s]"
     ]
    },
    {
     "name": "stdout",
     "output_type": "stream",
     "text": [
      "create<__main__.LagBlock object at 0x7fd814a7b6d0> 0.104[s]\n",
      "create<__main__.LagBlock object at 0x7fd814a7bd50> 0.102[s]\n"
     ]
    },
    {
     "name": "stderr",
     "output_type": "stream",
     "text": [
      "\r",
      " 53%|█████▎    | 18/34 [00:01<00:01,  9.10it/s]"
     ]
    },
    {
     "name": "stdout",
     "output_type": "stream",
     "text": [
      "create<__main__.LagBlock object at 0x7fd814a7bdd0> 0.104[s]\n",
      "create<__main__.LagBlock object at 0x7fd814a7b810> 0.171[s]\n"
     ]
    },
    {
     "name": "stderr",
     "output_type": "stream",
     "text": [
      " 59%|█████▉    | 20/34 [00:01<00:01,  8.55it/s]"
     ]
    },
    {
     "name": "stdout",
     "output_type": "stream",
     "text": [
      "create<__main__.LagBlock object at 0x7fd814a7be90> 0.146[s]\n",
      "create<__main__.LagBlock object at 0x7fd814a7bf10> 0.116[s]\n"
     ]
    },
    {
     "name": "stderr",
     "output_type": "stream",
     "text": [
      " 65%|██████▍   | 22/34 [00:02<00:01,  8.82it/s]"
     ]
    },
    {
     "name": "stdout",
     "output_type": "stream",
     "text": [
      "create<__main__.LagBlock object at 0x7fd814a7b950> 0.107[s]\n",
      "create<__main__.LagBlock object at 0x7fd814a7bfd0> 0.105[s]\n"
     ]
    },
    {
     "name": "stderr",
     "output_type": "stream",
     "text": [
      " 71%|███████   | 24/34 [00:02<00:01,  9.04it/s]"
     ]
    },
    {
     "name": "stdout",
     "output_type": "stream",
     "text": [
      "create<__main__.LagBlock object at 0x7fd814a7ba90> 0.105[s]\n",
      "create<__main__.LagBlock object at 0x7fd814a7be50> 0.105[s]\n"
     ]
    },
    {
     "name": "stderr",
     "output_type": "stream",
     "text": [
      " 76%|███████▋  | 26/34 [00:02<00:00,  9.19it/s]"
     ]
    },
    {
     "name": "stdout",
     "output_type": "stream",
     "text": [
      "create<__main__.LagBlock object at 0x7fd814a7bd10> 0.104[s]\n",
      "create<__main__.LagBlock object at 0x7fd814a7bbd0> 0.105[s]\n"
     ]
    },
    {
     "name": "stderr",
     "output_type": "stream",
     "text": [
      " 82%|████████▏ | 28/34 [00:02<00:00,  9.21it/s]"
     ]
    },
    {
     "name": "stdout",
     "output_type": "stream",
     "text": [
      "create<__main__.LagBlock object at 0x7fd814a7b250> 0.105[s]\n",
      "create<__main__.LagBlock object at 0x7fd814a7bf90> 0.106[s]\n"
     ]
    },
    {
     "name": "stderr",
     "output_type": "stream",
     "text": [
      " 88%|████████▊ | 30/34 [00:03<00:00,  7.47it/s]"
     ]
    },
    {
     "name": "stdout",
     "output_type": "stream",
     "text": [
      "create<__main__.LagBlock object at 0x7fd814a7b110> 0.174[s]\n",
      "create<__main__.LagBlock object at 0x7fd814a7b610> 0.144[s]\n"
     ]
    },
    {
     "name": "stderr",
     "output_type": "stream",
     "text": [
      " 94%|█████████▍| 32/34 [00:03<00:00,  8.07it/s]"
     ]
    },
    {
     "name": "stdout",
     "output_type": "stream",
     "text": [
      "create<__main__.LagBlock object at 0x7fd814a7b4d0> 0.120[s]\n",
      "create<__main__.LagBlock object at 0x7fd814a7b9d0> 0.104[s]\n"
     ]
    },
    {
     "name": "stderr",
     "output_type": "stream",
     "text": [
      "100%|██████████| 34/34 [00:03<00:00,  9.58it/s]"
     ]
    },
    {
     "name": "stdout",
     "output_type": "stream",
     "text": [
      "create<__main__.LagBlock object at 0x7fd814a7b890> 0.105[s]\n",
      "create<__main__.LagBlock object at 0x7fd814a7bd90> 0.105[s]\n"
     ]
    },
    {
     "name": "stderr",
     "output_type": "stream",
     "text": [
      "\n"
     ]
    }
   ],
   "source": [
    "use_col = ['Year', 'MeanLight', 'SumLight']\n",
    "light_cols = ['MeanLight', 'SumLight']\n",
    "lag = 15\n",
    "process_blocks = [\n",
    "    WrapperBlock(identyty_function),\n",
    "    *[GroupBlock('PlaceID', func, light_cols) for func in ['std', 'sum']],\n",
    "    *[LagBlock(i, light_cols) for i in range(-lag,0)],\n",
    "    *[LagBlock(i, light_cols) for i in range(0, lag+1)],\n",
    "]\n",
    "\n",
    "train_feat_df = to_feature(train_df, process_blocks, is_train=True)\n",
    "test_feat_df = to_feature(test_df, process_blocks, is_train=False)"
   ]
  },
  {
   "cell_type": "code",
   "execution_count": 21,
   "metadata": {},
   "outputs": [
    {
     "data": {
      "text/html": [
       "<div>\n",
       "<style scoped>\n",
       "    .dataframe tbody tr th:only-of-type {\n",
       "        vertical-align: middle;\n",
       "    }\n",
       "\n",
       "    .dataframe tbody tr th {\n",
       "        vertical-align: top;\n",
       "    }\n",
       "\n",
       "    .dataframe thead th {\n",
       "        text-align: right;\n",
       "    }\n",
       "</style>\n",
       "<table border=\"1\" class=\"dataframe\">\n",
       "  <thead>\n",
       "    <tr style=\"text-align: right;\">\n",
       "      <th></th>\n",
       "      <th>Year</th>\n",
       "      <th>MeanLight</th>\n",
       "      <th>SumLight</th>\n",
       "      <th>GEstd_PlaceID_MeanLight</th>\n",
       "      <th>GEstd_PlaceID_SumLight</th>\n",
       "      <th>GEsum_PlaceID_MeanLight</th>\n",
       "      <th>GEsum_PlaceID_SumLight</th>\n",
       "      <th>Lag_-15MeanLight</th>\n",
       "      <th>Lag_-15SumLight</th>\n",
       "      <th>Lag_-14MeanLight</th>\n",
       "      <th>...</th>\n",
       "      <th>Lag_11MeanLight</th>\n",
       "      <th>Lag_11SumLight</th>\n",
       "      <th>Lag_12MeanLight</th>\n",
       "      <th>Lag_12SumLight</th>\n",
       "      <th>Lag_13MeanLight</th>\n",
       "      <th>Lag_13SumLight</th>\n",
       "      <th>Lag_14MeanLight</th>\n",
       "      <th>Lag_14SumLight</th>\n",
       "      <th>Lag_15MeanLight</th>\n",
       "      <th>Lag_15SumLight</th>\n",
       "    </tr>\n",
       "  </thead>\n",
       "  <tbody>\n",
       "    <tr>\n",
       "      <th>0</th>\n",
       "      <td>1993</td>\n",
       "      <td>57.571430</td>\n",
       "      <td>403.0</td>\n",
       "      <td>1.356480</td>\n",
       "      <td>9.495362</td>\n",
       "      <td>1279.571428</td>\n",
       "      <td>8957.0</td>\n",
       "      <td>-4.857140</td>\n",
       "      <td>-34.0</td>\n",
       "      <td>-3.571427</td>\n",
       "      <td>...</td>\n",
       "      <td>NaN</td>\n",
       "      <td>NaN</td>\n",
       "      <td>NaN</td>\n",
       "      <td>NaN</td>\n",
       "      <td>NaN</td>\n",
       "      <td>NaN</td>\n",
       "      <td>NaN</td>\n",
       "      <td>NaN</td>\n",
       "      <td>NaN</td>\n",
       "      <td>NaN</td>\n",
       "    </tr>\n",
       "    <tr>\n",
       "      <th>1</th>\n",
       "      <td>1994</td>\n",
       "      <td>62.714287</td>\n",
       "      <td>439.0</td>\n",
       "      <td>1.356480</td>\n",
       "      <td>9.495362</td>\n",
       "      <td>1279.571428</td>\n",
       "      <td>8957.0</td>\n",
       "      <td>3.714287</td>\n",
       "      <td>26.0</td>\n",
       "      <td>0.285717</td>\n",
       "      <td>...</td>\n",
       "      <td>NaN</td>\n",
       "      <td>NaN</td>\n",
       "      <td>NaN</td>\n",
       "      <td>NaN</td>\n",
       "      <td>NaN</td>\n",
       "      <td>NaN</td>\n",
       "      <td>NaN</td>\n",
       "      <td>NaN</td>\n",
       "      <td>NaN</td>\n",
       "      <td>NaN</td>\n",
       "    </tr>\n",
       "    <tr>\n",
       "      <th>2</th>\n",
       "      <td>1995</td>\n",
       "      <td>61.857143</td>\n",
       "      <td>433.0</td>\n",
       "      <td>1.356480</td>\n",
       "      <td>9.495362</td>\n",
       "      <td>1279.571428</td>\n",
       "      <td>8957.0</td>\n",
       "      <td>0.000000</td>\n",
       "      <td>0.0</td>\n",
       "      <td>2.857143</td>\n",
       "      <td>...</td>\n",
       "      <td>NaN</td>\n",
       "      <td>NaN</td>\n",
       "      <td>NaN</td>\n",
       "      <td>NaN</td>\n",
       "      <td>NaN</td>\n",
       "      <td>NaN</td>\n",
       "      <td>NaN</td>\n",
       "      <td>NaN</td>\n",
       "      <td>NaN</td>\n",
       "      <td>NaN</td>\n",
       "    </tr>\n",
       "    <tr>\n",
       "      <th>3</th>\n",
       "      <td>1996</td>\n",
       "      <td>61.714287</td>\n",
       "      <td>432.0</td>\n",
       "      <td>1.356480</td>\n",
       "      <td>9.495362</td>\n",
       "      <td>1279.571428</td>\n",
       "      <td>8957.0</td>\n",
       "      <td>0.428574</td>\n",
       "      <td>3.0</td>\n",
       "      <td>-0.142856</td>\n",
       "      <td>...</td>\n",
       "      <td>NaN</td>\n",
       "      <td>NaN</td>\n",
       "      <td>NaN</td>\n",
       "      <td>NaN</td>\n",
       "      <td>NaN</td>\n",
       "      <td>NaN</td>\n",
       "      <td>NaN</td>\n",
       "      <td>NaN</td>\n",
       "      <td>NaN</td>\n",
       "      <td>NaN</td>\n",
       "    </tr>\n",
       "    <tr>\n",
       "      <th>4</th>\n",
       "      <td>1997</td>\n",
       "      <td>62.857143</td>\n",
       "      <td>440.0</td>\n",
       "      <td>1.356480</td>\n",
       "      <td>9.495362</td>\n",
       "      <td>1279.571428</td>\n",
       "      <td>8957.0</td>\n",
       "      <td>1.857143</td>\n",
       "      <td>13.0</td>\n",
       "      <td>1.571430</td>\n",
       "      <td>...</td>\n",
       "      <td>NaN</td>\n",
       "      <td>NaN</td>\n",
       "      <td>NaN</td>\n",
       "      <td>NaN</td>\n",
       "      <td>NaN</td>\n",
       "      <td>NaN</td>\n",
       "      <td>NaN</td>\n",
       "      <td>NaN</td>\n",
       "      <td>NaN</td>\n",
       "      <td>NaN</td>\n",
       "    </tr>\n",
       "    <tr>\n",
       "      <th>...</th>\n",
       "      <td>...</td>\n",
       "      <td>...</td>\n",
       "      <td>...</td>\n",
       "      <td>...</td>\n",
       "      <td>...</td>\n",
       "      <td>...</td>\n",
       "      <td>...</td>\n",
       "      <td>...</td>\n",
       "      <td>...</td>\n",
       "      <td>...</td>\n",
       "      <td>...</td>\n",
       "      <td>...</td>\n",
       "      <td>...</td>\n",
       "      <td>...</td>\n",
       "      <td>...</td>\n",
       "      <td>...</td>\n",
       "      <td>...</td>\n",
       "      <td>...</td>\n",
       "      <td>...</td>\n",
       "      <td>...</td>\n",
       "      <td>...</td>\n",
       "    </tr>\n",
       "    <tr>\n",
       "      <th>21878</th>\n",
       "      <td>2009</td>\n",
       "      <td>10.978724</td>\n",
       "      <td>1032.0</td>\n",
       "      <td>1.747232</td>\n",
       "      <td>167.831942</td>\n",
       "      <td>261.319749</td>\n",
       "      <td>23459.0</td>\n",
       "      <td>NaN</td>\n",
       "      <td>NaN</td>\n",
       "      <td>NaN</td>\n",
       "      <td>...</td>\n",
       "      <td>-0.234759</td>\n",
       "      <td>34.0</td>\n",
       "      <td>0.158499</td>\n",
       "      <td>69.0</td>\n",
       "      <td>-1.920152</td>\n",
       "      <td>-116.0</td>\n",
       "      <td>-1.897681</td>\n",
       "      <td>-114.0</td>\n",
       "      <td>-2.538130</td>\n",
       "      <td>-171.0</td>\n",
       "    </tr>\n",
       "    <tr>\n",
       "      <th>21879</th>\n",
       "      <td>2010</td>\n",
       "      <td>16.734043</td>\n",
       "      <td>1573.0</td>\n",
       "      <td>1.747232</td>\n",
       "      <td>167.831942</td>\n",
       "      <td>261.319749</td>\n",
       "      <td>23459.0</td>\n",
       "      <td>NaN</td>\n",
       "      <td>NaN</td>\n",
       "      <td>NaN</td>\n",
       "      <td>...</td>\n",
       "      <td>5.340785</td>\n",
       "      <td>559.0</td>\n",
       "      <td>5.520560</td>\n",
       "      <td>575.0</td>\n",
       "      <td>5.913818</td>\n",
       "      <td>610.0</td>\n",
       "      <td>3.835167</td>\n",
       "      <td>425.0</td>\n",
       "      <td>3.857638</td>\n",
       "      <td>427.0</td>\n",
       "    </tr>\n",
       "    <tr>\n",
       "      <th>21880</th>\n",
       "      <td>2011</td>\n",
       "      <td>12.595745</td>\n",
       "      <td>1184.0</td>\n",
       "      <td>1.747232</td>\n",
       "      <td>167.831942</td>\n",
       "      <td>261.319749</td>\n",
       "      <td>23459.0</td>\n",
       "      <td>NaN</td>\n",
       "      <td>NaN</td>\n",
       "      <td>NaN</td>\n",
       "      <td>...</td>\n",
       "      <td>-0.752569</td>\n",
       "      <td>-4.0</td>\n",
       "      <td>1.202487</td>\n",
       "      <td>170.0</td>\n",
       "      <td>1.382262</td>\n",
       "      <td>186.0</td>\n",
       "      <td>1.775520</td>\n",
       "      <td>221.0</td>\n",
       "      <td>-0.303131</td>\n",
       "      <td>36.0</td>\n",
       "    </tr>\n",
       "    <tr>\n",
       "      <th>21881</th>\n",
       "      <td>2012</td>\n",
       "      <td>13.775281</td>\n",
       "      <td>1226.0</td>\n",
       "      <td>1.747232</td>\n",
       "      <td>167.831942</td>\n",
       "      <td>261.319749</td>\n",
       "      <td>23459.0</td>\n",
       "      <td>NaN</td>\n",
       "      <td>NaN</td>\n",
       "      <td>NaN</td>\n",
       "      <td>...</td>\n",
       "      <td>1.775281</td>\n",
       "      <td>158.0</td>\n",
       "      <td>0.426967</td>\n",
       "      <td>38.0</td>\n",
       "      <td>2.382023</td>\n",
       "      <td>212.0</td>\n",
       "      <td>2.561798</td>\n",
       "      <td>228.0</td>\n",
       "      <td>2.955056</td>\n",
       "      <td>263.0</td>\n",
       "    </tr>\n",
       "    <tr>\n",
       "      <th>21882</th>\n",
       "      <td>2013</td>\n",
       "      <td>13.011236</td>\n",
       "      <td>1158.0</td>\n",
       "      <td>1.747232</td>\n",
       "      <td>167.831942</td>\n",
       "      <td>261.319749</td>\n",
       "      <td>23459.0</td>\n",
       "      <td>NaN</td>\n",
       "      <td>NaN</td>\n",
       "      <td>NaN</td>\n",
       "      <td>...</td>\n",
       "      <td>0.842697</td>\n",
       "      <td>75.0</td>\n",
       "      <td>1.011236</td>\n",
       "      <td>90.0</td>\n",
       "      <td>-0.337078</td>\n",
       "      <td>-30.0</td>\n",
       "      <td>1.617978</td>\n",
       "      <td>144.0</td>\n",
       "      <td>1.797753</td>\n",
       "      <td>160.0</td>\n",
       "    </tr>\n",
       "  </tbody>\n",
       "</table>\n",
       "<p>21883 rows × 69 columns</p>\n",
       "</div>"
      ],
      "text/plain": [
       "       Year  MeanLight  SumLight  GEstd_PlaceID_MeanLight  \\\n",
       "0      1993  57.571430     403.0                 1.356480   \n",
       "1      1994  62.714287     439.0                 1.356480   \n",
       "2      1995  61.857143     433.0                 1.356480   \n",
       "3      1996  61.714287     432.0                 1.356480   \n",
       "4      1997  62.857143     440.0                 1.356480   \n",
       "...     ...        ...       ...                      ...   \n",
       "21878  2009  10.978724    1032.0                 1.747232   \n",
       "21879  2010  16.734043    1573.0                 1.747232   \n",
       "21880  2011  12.595745    1184.0                 1.747232   \n",
       "21881  2012  13.775281    1226.0                 1.747232   \n",
       "21882  2013  13.011236    1158.0                 1.747232   \n",
       "\n",
       "       GEstd_PlaceID_SumLight  GEsum_PlaceID_MeanLight  \\\n",
       "0                    9.495362              1279.571428   \n",
       "1                    9.495362              1279.571428   \n",
       "2                    9.495362              1279.571428   \n",
       "3                    9.495362              1279.571428   \n",
       "4                    9.495362              1279.571428   \n",
       "...                       ...                      ...   \n",
       "21878              167.831942               261.319749   \n",
       "21879              167.831942               261.319749   \n",
       "21880              167.831942               261.319749   \n",
       "21881              167.831942               261.319749   \n",
       "21882              167.831942               261.319749   \n",
       "\n",
       "       GEsum_PlaceID_SumLight  Lag_-15MeanLight  Lag_-15SumLight  \\\n",
       "0                      8957.0         -4.857140            -34.0   \n",
       "1                      8957.0          3.714287             26.0   \n",
       "2                      8957.0          0.000000              0.0   \n",
       "3                      8957.0          0.428574              3.0   \n",
       "4                      8957.0          1.857143             13.0   \n",
       "...                       ...               ...              ...   \n",
       "21878                 23459.0               NaN              NaN   \n",
       "21879                 23459.0               NaN              NaN   \n",
       "21880                 23459.0               NaN              NaN   \n",
       "21881                 23459.0               NaN              NaN   \n",
       "21882                 23459.0               NaN              NaN   \n",
       "\n",
       "       Lag_-14MeanLight  ...  Lag_11MeanLight  Lag_11SumLight  \\\n",
       "0             -3.571427  ...              NaN             NaN   \n",
       "1              0.285717  ...              NaN             NaN   \n",
       "2              2.857143  ...              NaN             NaN   \n",
       "3             -0.142856  ...              NaN             NaN   \n",
       "4              1.571430  ...              NaN             NaN   \n",
       "...                 ...  ...              ...             ...   \n",
       "21878               NaN  ...        -0.234759            34.0   \n",
       "21879               NaN  ...         5.340785           559.0   \n",
       "21880               NaN  ...        -0.752569            -4.0   \n",
       "21881               NaN  ...         1.775281           158.0   \n",
       "21882               NaN  ...         0.842697            75.0   \n",
       "\n",
       "       Lag_12MeanLight  Lag_12SumLight  Lag_13MeanLight  Lag_13SumLight  \\\n",
       "0                  NaN             NaN              NaN             NaN   \n",
       "1                  NaN             NaN              NaN             NaN   \n",
       "2                  NaN             NaN              NaN             NaN   \n",
       "3                  NaN             NaN              NaN             NaN   \n",
       "4                  NaN             NaN              NaN             NaN   \n",
       "...                ...             ...              ...             ...   \n",
       "21878         0.158499            69.0        -1.920152          -116.0   \n",
       "21879         5.520560           575.0         5.913818           610.0   \n",
       "21880         1.202487           170.0         1.382262           186.0   \n",
       "21881         0.426967            38.0         2.382023           212.0   \n",
       "21882         1.011236            90.0        -0.337078           -30.0   \n",
       "\n",
       "       Lag_14MeanLight  Lag_14SumLight  Lag_15MeanLight  Lag_15SumLight  \n",
       "0                  NaN             NaN              NaN             NaN  \n",
       "1                  NaN             NaN              NaN             NaN  \n",
       "2                  NaN             NaN              NaN             NaN  \n",
       "3                  NaN             NaN              NaN             NaN  \n",
       "4                  NaN             NaN              NaN             NaN  \n",
       "...                ...             ...              ...             ...  \n",
       "21878        -1.897681          -114.0        -2.538130          -171.0  \n",
       "21879         3.835167           425.0         3.857638           427.0  \n",
       "21880         1.775520           221.0        -0.303131            36.0  \n",
       "21881         2.561798           228.0         2.955056           263.0  \n",
       "21882         1.617978           144.0         1.797753           160.0  \n",
       "\n",
       "[21883 rows x 69 columns]"
      ]
     },
     "execution_count": 21,
     "metadata": {},
     "output_type": "execute_result"
    }
   ],
   "source": [
    "train_feat_df "
   ]
  },
  {
   "cell_type": "code",
   "execution_count": 22,
   "metadata": {},
   "outputs": [
    {
     "data": {
      "text/html": [
       "<div>\n",
       "<style scoped>\n",
       "    .dataframe tbody tr th:only-of-type {\n",
       "        vertical-align: middle;\n",
       "    }\n",
       "\n",
       "    .dataframe tbody tr th {\n",
       "        vertical-align: top;\n",
       "    }\n",
       "\n",
       "    .dataframe thead th {\n",
       "        text-align: right;\n",
       "    }\n",
       "</style>\n",
       "<table border=\"1\" class=\"dataframe\">\n",
       "  <thead>\n",
       "    <tr style=\"text-align: right;\">\n",
       "      <th></th>\n",
       "      <th>Year</th>\n",
       "      <th>MeanLight</th>\n",
       "      <th>SumLight</th>\n",
       "      <th>GEstd_PlaceID_MeanLight</th>\n",
       "      <th>GEstd_PlaceID_SumLight</th>\n",
       "      <th>GEsum_PlaceID_MeanLight</th>\n",
       "      <th>GEsum_PlaceID_SumLight</th>\n",
       "      <th>Lag_-15MeanLight</th>\n",
       "      <th>Lag_-15SumLight</th>\n",
       "      <th>Lag_-14MeanLight</th>\n",
       "      <th>...</th>\n",
       "      <th>Lag_11MeanLight</th>\n",
       "      <th>Lag_11SumLight</th>\n",
       "      <th>Lag_12MeanLight</th>\n",
       "      <th>Lag_12SumLight</th>\n",
       "      <th>Lag_13MeanLight</th>\n",
       "      <th>Lag_13SumLight</th>\n",
       "      <th>Lag_14MeanLight</th>\n",
       "      <th>Lag_14SumLight</th>\n",
       "      <th>Lag_15MeanLight</th>\n",
       "      <th>Lag_15SumLight</th>\n",
       "    </tr>\n",
       "  </thead>\n",
       "  <tbody>\n",
       "    <tr>\n",
       "      <th>0</th>\n",
       "      <td>1992</td>\n",
       "      <td>28.775862</td>\n",
       "      <td>3338.0</td>\n",
       "      <td>4.060932</td>\n",
       "      <td>471.942105</td>\n",
       "      <td>714.284557</td>\n",
       "      <td>82956.0</td>\n",
       "      <td>-2.827587</td>\n",
       "      <td>-328.0</td>\n",
       "      <td>2.077585</td>\n",
       "      <td>...</td>\n",
       "      <td>NaN</td>\n",
       "      <td>NaN</td>\n",
       "      <td>NaN</td>\n",
       "      <td>NaN</td>\n",
       "      <td>NaN</td>\n",
       "      <td>NaN</td>\n",
       "      <td>NaN</td>\n",
       "      <td>NaN</td>\n",
       "      <td>NaN</td>\n",
       "      <td>NaN</td>\n",
       "    </tr>\n",
       "    <tr>\n",
       "      <th>1</th>\n",
       "      <td>1993</td>\n",
       "      <td>36.948277</td>\n",
       "      <td>4286.0</td>\n",
       "      <td>4.060932</td>\n",
       "      <td>471.942105</td>\n",
       "      <td>714.284557</td>\n",
       "      <td>82956.0</td>\n",
       "      <td>6.758622</td>\n",
       "      <td>784.0</td>\n",
       "      <td>5.344828</td>\n",
       "      <td>...</td>\n",
       "      <td>NaN</td>\n",
       "      <td>NaN</td>\n",
       "      <td>NaN</td>\n",
       "      <td>NaN</td>\n",
       "      <td>NaN</td>\n",
       "      <td>NaN</td>\n",
       "      <td>NaN</td>\n",
       "      <td>NaN</td>\n",
       "      <td>NaN</td>\n",
       "      <td>NaN</td>\n",
       "    </tr>\n",
       "    <tr>\n",
       "      <th>2</th>\n",
       "      <td>1994</td>\n",
       "      <td>30.706896</td>\n",
       "      <td>3562.0</td>\n",
       "      <td>4.060932</td>\n",
       "      <td>471.942105</td>\n",
       "      <td>714.284557</td>\n",
       "      <td>82956.0</td>\n",
       "      <td>-0.404215</td>\n",
       "      <td>-78.0</td>\n",
       "      <td>0.517241</td>\n",
       "      <td>...</td>\n",
       "      <td>NaN</td>\n",
       "      <td>NaN</td>\n",
       "      <td>NaN</td>\n",
       "      <td>NaN</td>\n",
       "      <td>NaN</td>\n",
       "      <td>NaN</td>\n",
       "      <td>NaN</td>\n",
       "      <td>NaN</td>\n",
       "      <td>NaN</td>\n",
       "      <td>NaN</td>\n",
       "    </tr>\n",
       "    <tr>\n",
       "      <th>3</th>\n",
       "      <td>1995</td>\n",
       "      <td>36.543102</td>\n",
       "      <td>4239.0</td>\n",
       "      <td>4.060932</td>\n",
       "      <td>471.942105</td>\n",
       "      <td>714.284557</td>\n",
       "      <td>82956.0</td>\n",
       "      <td>1.081562</td>\n",
       "      <td>90.0</td>\n",
       "      <td>5.431991</td>\n",
       "      <td>...</td>\n",
       "      <td>NaN</td>\n",
       "      <td>NaN</td>\n",
       "      <td>NaN</td>\n",
       "      <td>NaN</td>\n",
       "      <td>NaN</td>\n",
       "      <td>NaN</td>\n",
       "      <td>NaN</td>\n",
       "      <td>NaN</td>\n",
       "      <td>NaN</td>\n",
       "      <td>NaN</td>\n",
       "    </tr>\n",
       "    <tr>\n",
       "      <th>4</th>\n",
       "      <td>1996</td>\n",
       "      <td>36.784481</td>\n",
       "      <td>4267.0</td>\n",
       "      <td>4.060932</td>\n",
       "      <td>471.942105</td>\n",
       "      <td>714.284557</td>\n",
       "      <td>82956.0</td>\n",
       "      <td>4.365677</td>\n",
       "      <td>474.0</td>\n",
       "      <td>1.322941</td>\n",
       "      <td>...</td>\n",
       "      <td>NaN</td>\n",
       "      <td>NaN</td>\n",
       "      <td>NaN</td>\n",
       "      <td>NaN</td>\n",
       "      <td>NaN</td>\n",
       "      <td>NaN</td>\n",
       "      <td>NaN</td>\n",
       "      <td>NaN</td>\n",
       "      <td>NaN</td>\n",
       "      <td>NaN</td>\n",
       "    </tr>\n",
       "    <tr>\n",
       "      <th>...</th>\n",
       "      <td>...</td>\n",
       "      <td>...</td>\n",
       "      <td>...</td>\n",
       "      <td>...</td>\n",
       "      <td>...</td>\n",
       "      <td>...</td>\n",
       "      <td>...</td>\n",
       "      <td>...</td>\n",
       "      <td>...</td>\n",
       "      <td>...</td>\n",
       "      <td>...</td>\n",
       "      <td>...</td>\n",
       "      <td>...</td>\n",
       "      <td>...</td>\n",
       "      <td>...</td>\n",
       "      <td>...</td>\n",
       "      <td>...</td>\n",
       "      <td>...</td>\n",
       "      <td>...</td>\n",
       "      <td>...</td>\n",
       "      <td>...</td>\n",
       "    </tr>\n",
       "    <tr>\n",
       "      <th>13855</th>\n",
       "      <td>2009</td>\n",
       "      <td>4.869198</td>\n",
       "      <td>1154.0</td>\n",
       "      <td>0.936043</td>\n",
       "      <td>229.779873</td>\n",
       "      <td>151.104494</td>\n",
       "      <td>36605.0</td>\n",
       "      <td>NaN</td>\n",
       "      <td>NaN</td>\n",
       "      <td>NaN</td>\n",
       "      <td>...</td>\n",
       "      <td>-1.418868</td>\n",
       "      <td>-374.0</td>\n",
       "      <td>-1.822160</td>\n",
       "      <td>-472.0</td>\n",
       "      <td>-2.488826</td>\n",
       "      <td>-634.0</td>\n",
       "      <td>-2.929155</td>\n",
       "      <td>-741.0</td>\n",
       "      <td>-2.130802</td>\n",
       "      <td>-547.0</td>\n",
       "    </tr>\n",
       "    <tr>\n",
       "      <th>13856</th>\n",
       "      <td>2010</td>\n",
       "      <td>7.839663</td>\n",
       "      <td>1858.0</td>\n",
       "      <td>0.936043</td>\n",
       "      <td>229.779873</td>\n",
       "      <td>151.104494</td>\n",
       "      <td>36605.0</td>\n",
       "      <td>NaN</td>\n",
       "      <td>NaN</td>\n",
       "      <td>NaN</td>\n",
       "      <td>...</td>\n",
       "      <td>1.041309</td>\n",
       "      <td>206.0</td>\n",
       "      <td>1.551597</td>\n",
       "      <td>330.0</td>\n",
       "      <td>1.148304</td>\n",
       "      <td>232.0</td>\n",
       "      <td>0.481638</td>\n",
       "      <td>70.0</td>\n",
       "      <td>0.041309</td>\n",
       "      <td>-37.0</td>\n",
       "    </tr>\n",
       "    <tr>\n",
       "      <th>13857</th>\n",
       "      <td>2011</td>\n",
       "      <td>6.189873</td>\n",
       "      <td>1467.0</td>\n",
       "      <td>0.936043</td>\n",
       "      <td>229.779873</td>\n",
       "      <td>151.104494</td>\n",
       "      <td>36605.0</td>\n",
       "      <td>NaN</td>\n",
       "      <td>NaN</td>\n",
       "      <td>NaN</td>\n",
       "      <td>...</td>\n",
       "      <td>-1.793666</td>\n",
       "      <td>-473.0</td>\n",
       "      <td>-0.608480</td>\n",
       "      <td>-185.0</td>\n",
       "      <td>-0.098193</td>\n",
       "      <td>-61.0</td>\n",
       "      <td>-0.501485</td>\n",
       "      <td>-159.0</td>\n",
       "      <td>-1.168151</td>\n",
       "      <td>-321.0</td>\n",
       "    </tr>\n",
       "    <tr>\n",
       "      <th>13858</th>\n",
       "      <td>2012</td>\n",
       "      <td>7.230452</td>\n",
       "      <td>1757.0</td>\n",
       "      <td>0.936043</td>\n",
       "      <td>229.779873</td>\n",
       "      <td>151.104494</td>\n",
       "      <td>36605.0</td>\n",
       "      <td>NaN</td>\n",
       "      <td>NaN</td>\n",
       "      <td>NaN</td>\n",
       "      <td>...</td>\n",
       "      <td>-1.201646</td>\n",
       "      <td>-292.0</td>\n",
       "      <td>-0.753087</td>\n",
       "      <td>-183.0</td>\n",
       "      <td>0.432099</td>\n",
       "      <td>105.0</td>\n",
       "      <td>0.942387</td>\n",
       "      <td>229.0</td>\n",
       "      <td>0.539094</td>\n",
       "      <td>131.0</td>\n",
       "    </tr>\n",
       "    <tr>\n",
       "      <th>13859</th>\n",
       "      <td>2013</td>\n",
       "      <td>7.794239</td>\n",
       "      <td>1894.0</td>\n",
       "      <td>0.936043</td>\n",
       "      <td>229.779873</td>\n",
       "      <td>151.104494</td>\n",
       "      <td>36605.0</td>\n",
       "      <td>NaN</td>\n",
       "      <td>NaN</td>\n",
       "      <td>NaN</td>\n",
       "      <td>...</td>\n",
       "      <td>-0.164609</td>\n",
       "      <td>-40.0</td>\n",
       "      <td>-0.637860</td>\n",
       "      <td>-155.0</td>\n",
       "      <td>-0.189301</td>\n",
       "      <td>-46.0</td>\n",
       "      <td>0.995885</td>\n",
       "      <td>242.0</td>\n",
       "      <td>1.506173</td>\n",
       "      <td>366.0</td>\n",
       "    </tr>\n",
       "  </tbody>\n",
       "</table>\n",
       "<p>13860 rows × 69 columns</p>\n",
       "</div>"
      ],
      "text/plain": [
       "       Year  MeanLight  SumLight  GEstd_PlaceID_MeanLight  \\\n",
       "0      1992  28.775862    3338.0                 4.060932   \n",
       "1      1993  36.948277    4286.0                 4.060932   \n",
       "2      1994  30.706896    3562.0                 4.060932   \n",
       "3      1995  36.543102    4239.0                 4.060932   \n",
       "4      1996  36.784481    4267.0                 4.060932   \n",
       "...     ...        ...       ...                      ...   \n",
       "13855  2009   4.869198    1154.0                 0.936043   \n",
       "13856  2010   7.839663    1858.0                 0.936043   \n",
       "13857  2011   6.189873    1467.0                 0.936043   \n",
       "13858  2012   7.230452    1757.0                 0.936043   \n",
       "13859  2013   7.794239    1894.0                 0.936043   \n",
       "\n",
       "       GEstd_PlaceID_SumLight  GEsum_PlaceID_MeanLight  \\\n",
       "0                  471.942105               714.284557   \n",
       "1                  471.942105               714.284557   \n",
       "2                  471.942105               714.284557   \n",
       "3                  471.942105               714.284557   \n",
       "4                  471.942105               714.284557   \n",
       "...                       ...                      ...   \n",
       "13855              229.779873               151.104494   \n",
       "13856              229.779873               151.104494   \n",
       "13857              229.779873               151.104494   \n",
       "13858              229.779873               151.104494   \n",
       "13859              229.779873               151.104494   \n",
       "\n",
       "       GEsum_PlaceID_SumLight  Lag_-15MeanLight  Lag_-15SumLight  \\\n",
       "0                     82956.0         -2.827587           -328.0   \n",
       "1                     82956.0          6.758622            784.0   \n",
       "2                     82956.0         -0.404215            -78.0   \n",
       "3                     82956.0          1.081562             90.0   \n",
       "4                     82956.0          4.365677            474.0   \n",
       "...                       ...               ...              ...   \n",
       "13855                 36605.0               NaN              NaN   \n",
       "13856                 36605.0               NaN              NaN   \n",
       "13857                 36605.0               NaN              NaN   \n",
       "13858                 36605.0               NaN              NaN   \n",
       "13859                 36605.0               NaN              NaN   \n",
       "\n",
       "       Lag_-14MeanLight  ...  Lag_11MeanLight  Lag_11SumLight  \\\n",
       "0              2.077585  ...              NaN             NaN   \n",
       "1              5.344828  ...              NaN             NaN   \n",
       "2              0.517241  ...              NaN             NaN   \n",
       "3              5.431991  ...              NaN             NaN   \n",
       "4              1.322941  ...              NaN             NaN   \n",
       "...                 ...  ...              ...             ...   \n",
       "13855               NaN  ...        -1.418868          -374.0   \n",
       "13856               NaN  ...         1.041309           206.0   \n",
       "13857               NaN  ...        -1.793666          -473.0   \n",
       "13858               NaN  ...        -1.201646          -292.0   \n",
       "13859               NaN  ...        -0.164609           -40.0   \n",
       "\n",
       "       Lag_12MeanLight  Lag_12SumLight  Lag_13MeanLight  Lag_13SumLight  \\\n",
       "0                  NaN             NaN              NaN             NaN   \n",
       "1                  NaN             NaN              NaN             NaN   \n",
       "2                  NaN             NaN              NaN             NaN   \n",
       "3                  NaN             NaN              NaN             NaN   \n",
       "4                  NaN             NaN              NaN             NaN   \n",
       "...                ...             ...              ...             ...   \n",
       "13855        -1.822160          -472.0        -2.488826          -634.0   \n",
       "13856         1.551597           330.0         1.148304           232.0   \n",
       "13857        -0.608480          -185.0        -0.098193           -61.0   \n",
       "13858        -0.753087          -183.0         0.432099           105.0   \n",
       "13859        -0.637860          -155.0        -0.189301           -46.0   \n",
       "\n",
       "       Lag_14MeanLight  Lag_14SumLight  Lag_15MeanLight  Lag_15SumLight  \n",
       "0                  NaN             NaN              NaN             NaN  \n",
       "1                  NaN             NaN              NaN             NaN  \n",
       "2                  NaN             NaN              NaN             NaN  \n",
       "3                  NaN             NaN              NaN             NaN  \n",
       "4                  NaN             NaN              NaN             NaN  \n",
       "...                ...             ...              ...             ...  \n",
       "13855        -2.929155          -741.0        -2.130802          -547.0  \n",
       "13856         0.481638            70.0         0.041309           -37.0  \n",
       "13857        -0.501485          -159.0        -1.168151          -321.0  \n",
       "13858         0.942387           229.0         0.539094           131.0  \n",
       "13859         0.995885           242.0         1.506173           366.0  \n",
       "\n",
       "[13860 rows x 69 columns]"
      ]
     },
     "execution_count": 22,
     "metadata": {},
     "output_type": "execute_result"
    }
   ],
   "source": [
    "test_feat_df"
   ]
  },
  {
   "cell_type": "code",
   "execution_count": 23,
   "metadata": {},
   "outputs": [],
   "source": [
    "from sklearn.model_selection import GroupKFold\n",
    "fold = GroupKFold(n_splits=5)\n",
    "cv = list(fold.split(train_df, target, train_df['PlaceID']))"
   ]
  },
  {
   "cell_type": "code",
   "execution_count": 24,
   "metadata": {},
   "outputs": [],
   "source": [
    "y = np.log1p(target)"
   ]
  },
  {
   "cell_type": "code",
   "execution_count": 25,
   "metadata": {},
   "outputs": [
    {
     "data": {
      "text/html": [
       "<style type='text/css'>\n",
       ".datatable table.frame { margin-bottom: 0; }\n",
       ".datatable table.frame thead { border-bottom: none; }\n",
       ".datatable table.frame tr.coltypes td {  color: #FFFFFF;  line-height: 6px;  padding: 0 0.5em;}\n",
       ".datatable .bool    { background: #DDDD99; }\n",
       ".datatable .object  { background: #565656; }\n",
       ".datatable .int     { background: #5D9E5D; }\n",
       ".datatable .float   { background: #4040CC; }\n",
       ".datatable .str     { background: #CC4040; }\n",
       ".datatable .row_index {  background: var(--jp-border-color3);  border-right: 1px solid var(--jp-border-color0);  color: var(--jp-ui-font-color3);  font-size: 9px;}\n",
       ".datatable .frame tr.coltypes .row_index {  background: var(--jp-border-color0);}\n",
       ".datatable th:nth-child(2) { padding-left: 12px; }\n",
       ".datatable .hellipsis {  color: var(--jp-cell-editor-border-color);}\n",
       ".datatable .vellipsis {  background: var(--jp-layout-color0);  color: var(--jp-cell-editor-border-color);}\n",
       ".datatable .na {  color: var(--jp-cell-editor-border-color);  font-size: 80%;}\n",
       ".datatable .footer { font-size: 9px; }\n",
       ".datatable .frame_dimensions {  background: var(--jp-border-color3);  border-top: 1px solid var(--jp-border-color0);  color: var(--jp-ui-font-color3);  display: inline-block;  opacity: 0.6;  padding: 1px 10px 1px 5px;}\n",
       "</style>\n"
      ],
      "text/plain": [
       "<IPython.core.display.HTML object>"
      ]
     },
     "metadata": {},
     "output_type": "display_data"
    }
   ],
   "source": [
    "import lightgbm as lgb\n",
    "import xgboost as xgb\n",
    "from catboost import CatBoost\n",
    "from catboost import Pool\n",
    "from sklearn.metrics import mean_squared_error\n",
    "from sklearn.linear_model import Ridge"
   ]
  },
  {
   "cell_type": "code",
   "execution_count": 46,
   "metadata": {},
   "outputs": [],
   "source": [
    "from abc import abstractmethod\n",
    "class Base_Model(object):\n",
    "    @abstractmethod\n",
    "    def fit(self, x_train, y_train, x_valid, y_valid):\n",
    "        raise NotImplementedError\n",
    "\n",
    "    @abstractmethod\n",
    "    def predict(self, model, features):\n",
    "        raise NotImplementedError\n",
    "\n",
    "    def cv(self, y_train, train_features, test_features, fold_ids):\n",
    "        test_preds = np.zeros(len(test_features))\n",
    "        oof_preds = np.zeros(len(train_features))\n",
    "\n",
    "        for i_fold, (trn_idx, val_idx) in enumerate(fold_ids):\n",
    "            x_trn = train_features.iloc[trn_idx]\n",
    "            y_trn = y_train[trn_idx]\n",
    "            x_val = train_features.iloc[val_idx]\n",
    "            y_val = y_train[val_idx]\n",
    "\n",
    "            model = self.fit(x_trn, y_trn, x_val, y_val)\n",
    "\n",
    "            oof_preds[val_idx] = self.predict(model, x_val)\n",
    "            oof_score = np.sqrt(mean_squared_error(y_val, oof_preds[val_idx]))\n",
    "            print('fold{}:RMSLE{}'.format(i_fold,oof_score))\n",
    "            test_preds += self.predict(model, test_features) / len(fold_ids)\n",
    "\n",
    "        oof_score = np.sqrt(mean_squared_error(y_train, oof_preds))\n",
    "        print(f'oof score: {oof_score}')\n",
    "\n",
    "        evals_results = {\"evals_result\": {\n",
    "            \"oof_score\": oof_score,\n",
    "            \"n_data\": len(train_features),\n",
    "            \"n_features\": len(train_features.columns),\n",
    "        }}\n",
    "\n",
    "        return oof_preds, test_preds, evals_results"
   ]
  },
  {
   "cell_type": "code",
   "execution_count": 71,
   "metadata": {},
   "outputs": [],
   "source": [
    "cat_col = []\n",
    "class Lgbm(Base_Model):\n",
    "    def __init__(self,model_params):\n",
    "        self.model_params = model_params\n",
    "        self.models = []\n",
    "        self.feature_cols = None\n",
    "\n",
    "    def fit(self,x_train,y_train,x_valid,y_valid):\n",
    "        lgb_train = lgb.Dataset(x_train,y_train)\n",
    "        lgb_valid = lgb.Dataset(x_valid,y_valid)\n",
    "\n",
    "        model = lgb.train(self.model_params,\n",
    "            train_set=lgb_train,\n",
    "            valid_sets=[lgb_valid],\n",
    "            valid_names=['valid'],\n",
    "            #categorical_feature=cat_col,\n",
    "            early_stopping_rounds=20,\n",
    "            num_boost_round=10000,\n",
    "            verbose_eval=False)\n",
    "        self.models.append(model)\n",
    "        return model\n",
    "\n",
    "    def predict(self,model,features):\n",
    "        self.feature_cols = features.columns\n",
    "        return model.predict(features)\n",
    "\n",
    "    def visualize_importance(self):\n",
    "        feature_importance_df = pd.DataFrame()\n",
    "\n",
    "        for i,model in enumerate(self.models):\n",
    "            _df = pd.DataFrame()\n",
    "            _df['feature_importance'] = model.feature_importance(importance_type='gain')\n",
    "            _df['column'] = self.feature_cols\n",
    "            _df['fold'] = i+1\n",
    "            feature_importance_df = pd.concat([feature_importance_df,_df],axis=0,ignore_index=True)\n",
    "\n",
    "        order = feature_importance_df.groupby('column').sum()[['feature_importance']].sort_values('feature_importance',ascending=False).index[:50]\n",
    "\n",
    "        fig, ax = plt.subplots(figsize=(max(6, len(order) * .4), 7))\n",
    "        sns.boxenplot(data=feature_importance_df, x='column', y='feature_importance', order=order, ax=ax, palette='viridis')\n",
    "        ax.tick_params(axis='x', rotation=90)\n",
    "        ax.grid()\n",
    "        fig.tight_layout()\n",
    "        return fig,ax"
   ]
  },
  {
   "cell_type": "code",
   "execution_count": 72,
   "metadata": {},
   "outputs": [],
   "source": [
    "cat_col = []\n",
    "\n",
    "class Cat(Base_Model):\n",
    "    def __init__(self,model_params):\n",
    "        self.model_params = model_params\n",
    "    def fit(self,x_train,y_train,x_valid,y_valid):\n",
    "        train_pool = Pool(x_train,\n",
    "                          label=y_train,\n",
    "                          cat_features=cat_col)\n",
    "        valid_pool = Pool(x_valid,\n",
    "                          label=y_valid,\n",
    "                          cat_features=cat_col)\n",
    "\n",
    "        model = CatBoost(self.model_params)\n",
    "        model.fit(train_pool,\n",
    "                  early_stopping_rounds=30,\n",
    "                 plot=False,\n",
    "                 use_best_model=True,\n",
    "                 eval_set=[valid_pool],\n",
    "                  verbose=False)\n",
    "\n",
    "        return model\n",
    "\n",
    "    def predict(self,model,features):\n",
    "      pred = model.predict(features)\n",
    "      return pred\n"
   ]
  },
  {
   "cell_type": "code",
   "execution_count": 83,
   "metadata": {},
   "outputs": [],
   "source": [
    "class Xgb(Base_Model):\n",
    "    def __init__(self,model_params):\n",
    "        self.model_params = model_params\n",
    "\n",
    "    def fit(self,x_train,y_train,x_valid,y_valid):\n",
    "        xgb_train = xgb.DMatrix(x_train,label=y_train)\n",
    "        xgb_valid = xgb.DMatrix(x_valid,label=y_valid)\n",
    "\n",
    "        evals = [(xgb_train,'train'),(xgb_valid,'eval')]\n",
    "\n",
    "        model = xgb.train(self.model_params,\n",
    "                         xgb_train,\n",
    "                         num_boost_round=2000,\n",
    "                         early_stopping_rounds=20,\n",
    "                         evals=evals,\n",
    "                         verbose_eval=False)\n",
    "\n",
    "        return model\n",
    "\n",
    "    def predict(self,model,features):\n",
    "        return model.predict(xgb.DMatrix(features))"
   ]
  },
  {
   "cell_type": "code",
   "execution_count": 74,
   "metadata": {},
   "outputs": [],
   "source": [
    "class Rid(Base_Model):\n",
    "    def __init__(self):\n",
    "        self.model = None\n",
    "    \n",
    "    def fit(self, x_tarin, y_train, x_valid, y_valid):\n",
    "        model = Ridge(alpha=1, # L2係数\n",
    "                      max_iter=1000,\n",
    "                      random_state=10)\n",
    "        model.fit(x_train, y_train)\n",
    "        return model\n",
    "    \n",
    "    def predict(self, model, features):\n",
    "        return model.predict(features)"
   ]
  },
  {
   "cell_type": "code",
   "execution_count": 75,
   "metadata": {},
   "outputs": [
    {
     "name": "stdout",
     "output_type": "stream",
     "text": [
      "fold0:RMSLE0.5859151708395568\n",
      "fold1:RMSLE0.5662317395970881\n",
      "fold2:RMSLE0.6499885083392173\n",
      "fold3:RMSLE0.5491780551469888\n",
      "fold4:RMSLE0.612137092145099\n",
      "oof score: 0.593752577364006\n"
     ]
    }
   ],
   "source": [
    "cat_col = []\n",
    "cat_params = {\n",
    "    'loss_function':'RMSE',\n",
    "    'num_boost_round': 10000,\n",
    "    'depth':7\n",
    "}\n",
    "\n",
    "model1 = Cat(cat_params)\n",
    "oof_preds_cat, test_preds_cat, evals_results_cat = model1.cv(\n",
    "    y, train_feat_df, test_feat_df, cv )"
   ]
  },
  {
   "cell_type": "code",
   "execution_count": 77,
   "metadata": {},
   "outputs": [
    {
     "name": "stdout",
     "output_type": "stream",
     "text": [
      "fold0:RMSLE0.5911400170859885\n",
      "fold1:RMSLE0.5802856877769975\n",
      "fold2:RMSLE0.6505791601686701\n",
      "fold3:RMSLE0.5740384582753413\n",
      "fold4:RMSLE0.6041171037304379\n",
      "oof score: 0.6006518809738709\n"
     ]
    }
   ],
   "source": [
    "lgbm_params = {\n",
    "    'boosting_type': 'gbdt',\n",
    "    'objective': 'regression',\n",
    "    'metric': 'rmse',\n",
    "    'num_leaves': 20,\n",
    "    'learning_rate': 0.01,\n",
    "    'verbose': -1\n",
    "}\n",
    "\n",
    "model2 = Lgbm(lgbm_params)\n",
    "oof_preds_lgb, test_preds_lgb, evals_results_lgb = model2.cv(\n",
    "y, train_feat_df, test_feat_df, cv)"
   ]
  },
  {
   "cell_type": "code",
   "execution_count": 84,
   "metadata": {},
   "outputs": [
    {
     "name": "stdout",
     "output_type": "stream",
     "text": [
      "[14:00:53] WARNING: ../src/learner.cc:222: No visible GPU is found, setting `gpu_id` to -1\n"
     ]
    },
    {
     "ename": "XGBoostError",
     "evalue": "[14:00:53] ../src/gbm/gbtree.cc:506: Check failed: common::AllVisibleGPUs() >= 1 (0 vs. 1) : No visible GPU is found for XGBoost.\nStack trace:\n  [bt] (0) /opt/conda/lib/python3.7/site-packages/xgboost/lib/libxgboost.so(+0x8d264) [0x7fd7efc57264]\n  [bt] (1) /opt/conda/lib/python3.7/site-packages/xgboost/lib/libxgboost.so(+0x1722f0) [0x7fd7efd3c2f0]\n  [bt] (2) /opt/conda/lib/python3.7/site-packages/xgboost/lib/libxgboost.so(+0x172542) [0x7fd7efd3c542]\n  [bt] (3) /opt/conda/lib/python3.7/site-packages/xgboost/lib/libxgboost.so(+0x1a2c21) [0x7fd7efd6cc21]\n  [bt] (4) /opt/conda/lib/python3.7/site-packages/xgboost/lib/libxgboost.so(XGBoosterUpdateOneIter+0x58) [0x7fd7efc4a0c8]\n  [bt] (5) /opt/conda/lib/python3.7/lib-dynload/../../libffi.so.7(+0x69dd) [0x7fd9a4e959dd]\n  [bt] (6) /opt/conda/lib/python3.7/lib-dynload/../../libffi.so.7(+0x6067) [0x7fd9a4e95067]\n  [bt] (7) /opt/conda/lib/python3.7/lib-dynload/_ctypes.cpython-37m-x86_64-linux-gnu.so(_ctypes_callproc+0x2f4) [0x7fd9a4eab944]\n  [bt] (8) /opt/conda/lib/python3.7/lib-dynload/_ctypes.cpython-37m-x86_64-linux-gnu.so(+0x111b8) [0x7fd9a4eac1b8]\n\n",
     "output_type": "error",
     "traceback": [
      "\u001b[0;31m---------------------------------------------------------------------------\u001b[0m",
      "\u001b[0;31mXGBoostError\u001b[0m                              Traceback (most recent call last)",
      "\u001b[0;32m<ipython-input-84-90fe8437e522>\u001b[0m in \u001b[0;36m<module>\u001b[0;34m\u001b[0m\n\u001b[1;32m      9\u001b[0m \u001b[0mmodel3\u001b[0m \u001b[0;34m=\u001b[0m \u001b[0mXgb\u001b[0m\u001b[0;34m(\u001b[0m\u001b[0mxgb_params\u001b[0m\u001b[0;34m)\u001b[0m\u001b[0;34m\u001b[0m\u001b[0;34m\u001b[0m\u001b[0m\n\u001b[1;32m     10\u001b[0m oof_preds_xgb, test_preds_xgb, ecals_resultsxgb = model3.cv(\n\u001b[0;32m---> 11\u001b[0;31m y, train_feat_df, test_feat_df, cv)\n\u001b[0m",
      "\u001b[0;32m<ipython-input-46-c7083a5ce5a8>\u001b[0m in \u001b[0;36mcv\u001b[0;34m(self, y_train, train_features, test_features, fold_ids)\u001b[0m\n\u001b[1;32m     19\u001b[0m             \u001b[0my_val\u001b[0m \u001b[0;34m=\u001b[0m \u001b[0my_train\u001b[0m\u001b[0;34m[\u001b[0m\u001b[0mval_idx\u001b[0m\u001b[0;34m]\u001b[0m\u001b[0;34m\u001b[0m\u001b[0;34m\u001b[0m\u001b[0m\n\u001b[1;32m     20\u001b[0m \u001b[0;34m\u001b[0m\u001b[0m\n\u001b[0;32m---> 21\u001b[0;31m             \u001b[0mmodel\u001b[0m \u001b[0;34m=\u001b[0m \u001b[0mself\u001b[0m\u001b[0;34m.\u001b[0m\u001b[0mfit\u001b[0m\u001b[0;34m(\u001b[0m\u001b[0mx_trn\u001b[0m\u001b[0;34m,\u001b[0m \u001b[0my_trn\u001b[0m\u001b[0;34m,\u001b[0m \u001b[0mx_val\u001b[0m\u001b[0;34m,\u001b[0m \u001b[0my_val\u001b[0m\u001b[0;34m)\u001b[0m\u001b[0;34m\u001b[0m\u001b[0;34m\u001b[0m\u001b[0m\n\u001b[0m\u001b[1;32m     22\u001b[0m \u001b[0;34m\u001b[0m\u001b[0m\n\u001b[1;32m     23\u001b[0m             \u001b[0moof_preds\u001b[0m\u001b[0;34m[\u001b[0m\u001b[0mval_idx\u001b[0m\u001b[0;34m]\u001b[0m \u001b[0;34m=\u001b[0m \u001b[0mself\u001b[0m\u001b[0;34m.\u001b[0m\u001b[0mpredict\u001b[0m\u001b[0;34m(\u001b[0m\u001b[0mmodel\u001b[0m\u001b[0;34m,\u001b[0m \u001b[0mx_val\u001b[0m\u001b[0;34m)\u001b[0m\u001b[0;34m\u001b[0m\u001b[0;34m\u001b[0m\u001b[0m\n",
      "\u001b[0;32m<ipython-input-83-026ce6cb76b4>\u001b[0m in \u001b[0;36mfit\u001b[0;34m(self, x_train, y_train, x_valid, y_valid)\u001b[0m\n\u001b[1;32m     14\u001b[0m                          \u001b[0mearly_stopping_rounds\u001b[0m\u001b[0;34m=\u001b[0m\u001b[0;36m20\u001b[0m\u001b[0;34m,\u001b[0m\u001b[0;34m\u001b[0m\u001b[0;34m\u001b[0m\u001b[0m\n\u001b[1;32m     15\u001b[0m                          \u001b[0mevals\u001b[0m\u001b[0;34m=\u001b[0m\u001b[0mevals\u001b[0m\u001b[0;34m,\u001b[0m\u001b[0;34m\u001b[0m\u001b[0;34m\u001b[0m\u001b[0m\n\u001b[0;32m---> 16\u001b[0;31m                          verbose_eval=False)\n\u001b[0m\u001b[1;32m     17\u001b[0m \u001b[0;34m\u001b[0m\u001b[0m\n\u001b[1;32m     18\u001b[0m         \u001b[0;32mreturn\u001b[0m \u001b[0mmodel\u001b[0m\u001b[0;34m\u001b[0m\u001b[0;34m\u001b[0m\u001b[0m\n",
      "\u001b[0;32m/opt/conda/lib/python3.7/site-packages/xgboost/training.py\u001b[0m in \u001b[0;36mtrain\u001b[0;34m(params, dtrain, num_boost_round, evals, obj, feval, maximize, early_stopping_rounds, evals_result, verbose_eval, xgb_model, callbacks)\u001b[0m\n\u001b[1;32m    233\u001b[0m                           \u001b[0mevals_result\u001b[0m\u001b[0;34m=\u001b[0m\u001b[0mevals_result\u001b[0m\u001b[0;34m,\u001b[0m\u001b[0;34m\u001b[0m\u001b[0;34m\u001b[0m\u001b[0m\n\u001b[1;32m    234\u001b[0m                           \u001b[0mmaximize\u001b[0m\u001b[0;34m=\u001b[0m\u001b[0mmaximize\u001b[0m\u001b[0;34m,\u001b[0m\u001b[0;34m\u001b[0m\u001b[0;34m\u001b[0m\u001b[0m\n\u001b[0;32m--> 235\u001b[0;31m                           early_stopping_rounds=early_stopping_rounds)\n\u001b[0m\u001b[1;32m    236\u001b[0m     \u001b[0;32mreturn\u001b[0m \u001b[0mbst\u001b[0m\u001b[0;34m\u001b[0m\u001b[0;34m\u001b[0m\u001b[0m\n\u001b[1;32m    237\u001b[0m \u001b[0;34m\u001b[0m\u001b[0m\n",
      "\u001b[0;32m/opt/conda/lib/python3.7/site-packages/xgboost/training.py\u001b[0m in \u001b[0;36m_train_internal\u001b[0;34m(params, dtrain, num_boost_round, evals, obj, feval, xgb_model, callbacks, evals_result, maximize, verbose_eval, early_stopping_rounds)\u001b[0m\n\u001b[1;32m    100\u001b[0m         \u001b[0;31m# Skip the first update if it is a recovery step.\u001b[0m\u001b[0;34m\u001b[0m\u001b[0;34m\u001b[0m\u001b[0;34m\u001b[0m\u001b[0m\n\u001b[1;32m    101\u001b[0m         \u001b[0;32mif\u001b[0m \u001b[0mversion\u001b[0m \u001b[0;34m%\u001b[0m \u001b[0;36m2\u001b[0m \u001b[0;34m==\u001b[0m \u001b[0;36m0\u001b[0m\u001b[0;34m:\u001b[0m\u001b[0;34m\u001b[0m\u001b[0;34m\u001b[0m\u001b[0m\n\u001b[0;32m--> 102\u001b[0;31m             \u001b[0mbst\u001b[0m\u001b[0;34m.\u001b[0m\u001b[0mupdate\u001b[0m\u001b[0;34m(\u001b[0m\u001b[0mdtrain\u001b[0m\u001b[0;34m,\u001b[0m \u001b[0mi\u001b[0m\u001b[0;34m,\u001b[0m \u001b[0mobj\u001b[0m\u001b[0;34m)\u001b[0m\u001b[0;34m\u001b[0m\u001b[0;34m\u001b[0m\u001b[0m\n\u001b[0m\u001b[1;32m    103\u001b[0m             \u001b[0mbst\u001b[0m\u001b[0;34m.\u001b[0m\u001b[0msave_rabit_checkpoint\u001b[0m\u001b[0;34m(\u001b[0m\u001b[0;34m)\u001b[0m\u001b[0;34m\u001b[0m\u001b[0;34m\u001b[0m\u001b[0m\n\u001b[1;32m    104\u001b[0m             \u001b[0mversion\u001b[0m \u001b[0;34m+=\u001b[0m \u001b[0;36m1\u001b[0m\u001b[0;34m\u001b[0m\u001b[0;34m\u001b[0m\u001b[0m\n",
      "\u001b[0;32m/opt/conda/lib/python3.7/site-packages/xgboost/core.py\u001b[0m in \u001b[0;36mupdate\u001b[0;34m(self, dtrain, iteration, fobj)\u001b[0m\n\u001b[1;32m   1280\u001b[0m             _check_call(_LIB.XGBoosterUpdateOneIter(self.handle,\n\u001b[1;32m   1281\u001b[0m                                                     \u001b[0mctypes\u001b[0m\u001b[0;34m.\u001b[0m\u001b[0mc_int\u001b[0m\u001b[0;34m(\u001b[0m\u001b[0miteration\u001b[0m\u001b[0;34m)\u001b[0m\u001b[0;34m,\u001b[0m\u001b[0;34m\u001b[0m\u001b[0;34m\u001b[0m\u001b[0m\n\u001b[0;32m-> 1282\u001b[0;31m                                                     dtrain.handle))\n\u001b[0m\u001b[1;32m   1283\u001b[0m         \u001b[0;32melse\u001b[0m\u001b[0;34m:\u001b[0m\u001b[0;34m\u001b[0m\u001b[0;34m\u001b[0m\u001b[0m\n\u001b[1;32m   1284\u001b[0m             \u001b[0mpred\u001b[0m \u001b[0;34m=\u001b[0m \u001b[0mself\u001b[0m\u001b[0;34m.\u001b[0m\u001b[0mpredict\u001b[0m\u001b[0;34m(\u001b[0m\u001b[0mdtrain\u001b[0m\u001b[0;34m,\u001b[0m \u001b[0moutput_margin\u001b[0m\u001b[0;34m=\u001b[0m\u001b[0;32mTrue\u001b[0m\u001b[0;34m,\u001b[0m \u001b[0mtraining\u001b[0m\u001b[0;34m=\u001b[0m\u001b[0;32mTrue\u001b[0m\u001b[0;34m)\u001b[0m\u001b[0;34m\u001b[0m\u001b[0;34m\u001b[0m\u001b[0m\n",
      "\u001b[0;32m/opt/conda/lib/python3.7/site-packages/xgboost/core.py\u001b[0m in \u001b[0;36m_check_call\u001b[0;34m(ret)\u001b[0m\n\u001b[1;32m    187\u001b[0m     \"\"\"\n\u001b[1;32m    188\u001b[0m     \u001b[0;32mif\u001b[0m \u001b[0mret\u001b[0m \u001b[0;34m!=\u001b[0m \u001b[0;36m0\u001b[0m\u001b[0;34m:\u001b[0m\u001b[0;34m\u001b[0m\u001b[0;34m\u001b[0m\u001b[0m\n\u001b[0;32m--> 189\u001b[0;31m         \u001b[0;32mraise\u001b[0m \u001b[0mXGBoostError\u001b[0m\u001b[0;34m(\u001b[0m\u001b[0mpy_str\u001b[0m\u001b[0;34m(\u001b[0m\u001b[0m_LIB\u001b[0m\u001b[0;34m.\u001b[0m\u001b[0mXGBGetLastError\u001b[0m\u001b[0;34m(\u001b[0m\u001b[0;34m)\u001b[0m\u001b[0;34m)\u001b[0m\u001b[0;34m)\u001b[0m\u001b[0;34m\u001b[0m\u001b[0;34m\u001b[0m\u001b[0m\n\u001b[0m\u001b[1;32m    190\u001b[0m \u001b[0;34m\u001b[0m\u001b[0m\n\u001b[1;32m    191\u001b[0m \u001b[0;34m\u001b[0m\u001b[0m\n",
      "\u001b[0;31mXGBoostError\u001b[0m: [14:00:53] ../src/gbm/gbtree.cc:506: Check failed: common::AllVisibleGPUs() >= 1 (0 vs. 1) : No visible GPU is found for XGBoost.\nStack trace:\n  [bt] (0) /opt/conda/lib/python3.7/site-packages/xgboost/lib/libxgboost.so(+0x8d264) [0x7fd7efc57264]\n  [bt] (1) /opt/conda/lib/python3.7/site-packages/xgboost/lib/libxgboost.so(+0x1722f0) [0x7fd7efd3c2f0]\n  [bt] (2) /opt/conda/lib/python3.7/site-packages/xgboost/lib/libxgboost.so(+0x172542) [0x7fd7efd3c542]\n  [bt] (3) /opt/conda/lib/python3.7/site-packages/xgboost/lib/libxgboost.so(+0x1a2c21) [0x7fd7efd6cc21]\n  [bt] (4) /opt/conda/lib/python3.7/site-packages/xgboost/lib/libxgboost.so(XGBoosterUpdateOneIter+0x58) [0x7fd7efc4a0c8]\n  [bt] (5) /opt/conda/lib/python3.7/lib-dynload/../../libffi.so.7(+0x69dd) [0x7fd9a4e959dd]\n  [bt] (6) /opt/conda/lib/python3.7/lib-dynload/../../libffi.so.7(+0x6067) [0x7fd9a4e95067]\n  [bt] (7) /opt/conda/lib/python3.7/lib-dynload/_ctypes.cpython-37m-x86_64-linux-gnu.so(_ctypes_callproc+0x2f4) [0x7fd9a4eab944]\n  [bt] (8) /opt/conda/lib/python3.7/lib-dynload/_ctypes.cpython-37m-x86_64-linux-gnu.so(+0x111b8) [0x7fd9a4eac1b8]\n\n"
     ]
    }
   ],
   "source": [
    "xgb_params = {\n",
    "    'max_depth': 6,\n",
    "    'lambda':10, \n",
    "    'objective': 'reg:squarederror',\n",
    "    'eval_metric':'rmse',\n",
    "    'tree_method':'gpu_hist',\n",
    "    'learning_rate':0.01}\n",
    "\n",
    "model3 = Xgb(xgb_params)\n",
    "oof_preds_xgb, test_preds_xgb, ecals_resultsxgb = model3.cv(\n",
    "y, train_feat_df, test_feat_df, cv)"
   ]
  },
  {
   "cell_type": "code",
   "execution_count": 85,
   "metadata": {},
   "outputs": [
    {
     "data": {
      "text/plain": [
       "[name: \"/device:CPU:0\"\n",
       " device_type: \"CPU\"\n",
       " memory_limit: 268435456\n",
       " locality {\n",
       " }\n",
       " incarnation: 13761793775267230183]"
      ]
     },
     "execution_count": 85,
     "metadata": {},
     "output_type": "execute_result"
    }
   ],
   "source": [
    "from tensorflow.python.client import device_lib\n",
    "device_lib.list_local_devices()"
   ]
  },
  {
   "cell_type": "code",
   "execution_count": null,
   "metadata": {},
   "outputs": [],
   "source": []
  },
  {
   "cell_type": "code",
   "execution_count": null,
   "metadata": {},
   "outputs": [],
   "source": []
  }
 ],
 "metadata": {
  "kernelspec": {
   "display_name": "Python 3",
   "language": "python",
   "name": "python3"
  },
  "language_info": {
   "codemirror_mode": {
    "name": "ipython",
    "version": 3
   },
   "file_extension": ".py",
   "mimetype": "text/x-python",
   "name": "python",
   "nbconvert_exporter": "python",
   "pygments_lexer": "ipython3",
   "version": "3.7.9"
  }
 },
 "nbformat": 4,
 "nbformat_minor": 4
}
