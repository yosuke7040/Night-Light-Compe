{
 "cells": [
  {
   "cell_type": "markdown",
   "metadata": {},
   "source": [
    "solafune:夜間光コンペ Baseline(xgb,lgb,cat)(by tubo)\n",
    "\n",
    "https://qiita.com/tubo/items/f83a97f2488cc1f40088 の写経"
   ]
  },
  {
   "cell_type": "code",
   "execution_count": 1,
   "metadata": {},
   "outputs": [
    {
     "name": "stdout",
     "output_type": "stream",
     "text": [
      "/src/Solafune/夜間光データから土地価格を予測/src\n"
     ]
    }
   ],
   "source": [
    "import os\n",
    "import pandas as pd\n",
    "import numpy as np\n",
    "import matplotlib.pyplot as plt\n",
    "import seaborn as sns\n",
    "from matplotlib_venn import venn2\n",
    "from ptitprince import RainCloud\n",
    "\n",
    "from pandas_profiling import ProfileReport\n",
    "\n",
    "print(os.getcwd())"
   ]
  },
  {
   "cell_type": "code",
   "execution_count": 2,
   "metadata": {},
   "outputs": [],
   "source": [
    "INPUT_DIR = '/src/Solafune/夜間光データから土地価格を予測/data/inputs/'\n",
    "OUTPUT_DIR = '/src/Solafune/夜間光データから土地価格を予測/data/outputs/'\n",
    "NB_NAME = 'nb004'\n",
    "\n",
    "os.makedirs(OUTPUT_DIR, exist_ok=True)\n",
    "\n",
    "train_df = pd.read_csv(os.path.join(INPUT_DIR, 'TrainDataSet.csv'))\n",
    "test_df = pd.read_csv(os.path.join(INPUT_DIR, 'EvaluationData.csv'))"
   ]
  },
  {
   "cell_type": "code",
   "execution_count": 23,
   "metadata": {},
   "outputs": [
    {
     "data": {
      "text/plain": [
       "(21883, 5)"
      ]
     },
     "execution_count": 23,
     "metadata": {},
     "output_type": "execute_result"
    }
   ],
   "source": [
    "train_df.shpae"
   ]
  },
  {
   "cell_type": "code",
   "execution_count": 3,
   "metadata": {},
   "outputs": [],
   "source": [
    "target = train_df['AverageLandPrice']"
   ]
  },
  {
   "cell_type": "code",
   "execution_count": 4,
   "metadata": {},
   "outputs": [],
   "source": [
    "class BaseBlock(object):\n",
    "    def fit(self, input_df, y=None):\n",
    "        return self.transform(input_df)\n",
    "    \n",
    "    def transform(self, input_df):\n",
    "        raise NotImplementedError()"
   ]
  },
  {
   "cell_type": "code",
   "execution_count": 7,
   "metadata": {},
   "outputs": [],
   "source": [
    "class LagBlock(BaseBlock):\n",
    "    def __init__(self, lag:int, cols):\n",
    "        self.lag = lag\n",
    "        self.cols = cols\n",
    "        \n",
    "    def transform(self, input_df):\n",
    "        # Yearはちゃんと時系列順になってるか全部は見てない\n",
    "        output_df = input_df.groupby('PlaceID')[self.cols].diff(self.lag)\n",
    "        return output_df.add_prefix(f'Lag_{self.lag}')"
   ]
  },
  {
   "cell_type": "code",
   "execution_count": 34,
   "metadata": {},
   "outputs": [
    {
     "data": {
      "text/html": [
       "<div>\n",
       "<style scoped>\n",
       "    .dataframe tbody tr th:only-of-type {\n",
       "        vertical-align: middle;\n",
       "    }\n",
       "\n",
       "    .dataframe tbody tr th {\n",
       "        vertical-align: top;\n",
       "    }\n",
       "\n",
       "    .dataframe thead th {\n",
       "        text-align: right;\n",
       "    }\n",
       "</style>\n",
       "<table border=\"1\" class=\"dataframe\">\n",
       "  <thead>\n",
       "    <tr style=\"text-align: right;\">\n",
       "      <th></th>\n",
       "      <th>Lag_1MeanLight</th>\n",
       "      <th>Lag_1SumLight</th>\n",
       "    </tr>\n",
       "  </thead>\n",
       "  <tbody>\n",
       "    <tr>\n",
       "      <th>0</th>\n",
       "      <td>NaN</td>\n",
       "      <td>NaN</td>\n",
       "    </tr>\n",
       "    <tr>\n",
       "      <th>1</th>\n",
       "      <td>5.142857</td>\n",
       "      <td>36.0</td>\n",
       "    </tr>\n",
       "    <tr>\n",
       "      <th>2</th>\n",
       "      <td>-0.857144</td>\n",
       "      <td>-6.0</td>\n",
       "    </tr>\n",
       "    <tr>\n",
       "      <th>3</th>\n",
       "      <td>-0.142856</td>\n",
       "      <td>-1.0</td>\n",
       "    </tr>\n",
       "    <tr>\n",
       "      <th>4</th>\n",
       "      <td>1.142856</td>\n",
       "      <td>8.0</td>\n",
       "    </tr>\n",
       "    <tr>\n",
       "      <th>...</th>\n",
       "      <td>...</td>\n",
       "      <td>...</td>\n",
       "    </tr>\n",
       "    <tr>\n",
       "      <th>95</th>\n",
       "      <td>10.599998</td>\n",
       "      <td>159.0</td>\n",
       "    </tr>\n",
       "    <tr>\n",
       "      <th>96</th>\n",
       "      <td>-5.133335</td>\n",
       "      <td>-77.0</td>\n",
       "    </tr>\n",
       "    <tr>\n",
       "      <th>97</th>\n",
       "      <td>2.733333</td>\n",
       "      <td>41.0</td>\n",
       "    </tr>\n",
       "    <tr>\n",
       "      <th>98</th>\n",
       "      <td>4.666668</td>\n",
       "      <td>70.0</td>\n",
       "    </tr>\n",
       "    <tr>\n",
       "      <th>99</th>\n",
       "      <td>-1.866664</td>\n",
       "      <td>-28.0</td>\n",
       "    </tr>\n",
       "  </tbody>\n",
       "</table>\n",
       "<p>100 rows × 2 columns</p>\n",
       "</div>"
      ],
      "text/plain": [
       "    Lag_1MeanLight  Lag_1SumLight\n",
       "0              NaN            NaN\n",
       "1         5.142857           36.0\n",
       "2        -0.857144           -6.0\n",
       "3        -0.142856           -1.0\n",
       "4         1.142856            8.0\n",
       "..             ...            ...\n",
       "95       10.599998          159.0\n",
       "96       -5.133335          -77.0\n",
       "97        2.733333           41.0\n",
       "98        4.666668           70.0\n",
       "99       -1.866664          -28.0\n",
       "\n",
       "[100 rows x 2 columns]"
      ]
     },
     "execution_count": 34,
     "metadata": {},
     "output_type": "execute_result"
    }
   ],
   "source": [
    "lb = LagBlock(1, ['MeanLight', 'SumLight'])\n",
    "lb.transform(train_df)"
   ]
  },
  {
   "cell_type": "code",
   "execution_count": 28,
   "metadata": {},
   "outputs": [
    {
     "data": {
      "text/html": [
       "<div>\n",
       "<style scoped>\n",
       "    .dataframe tbody tr th:only-of-type {\n",
       "        vertical-align: middle;\n",
       "    }\n",
       "\n",
       "    .dataframe tbody tr th {\n",
       "        vertical-align: top;\n",
       "    }\n",
       "\n",
       "    .dataframe thead th {\n",
       "        text-align: right;\n",
       "    }\n",
       "</style>\n",
       "<table border=\"1\" class=\"dataframe\">\n",
       "  <thead>\n",
       "    <tr style=\"text-align: right;\">\n",
       "      <th></th>\n",
       "      <th>index</th>\n",
       "      <th>MeanLight</th>\n",
       "    </tr>\n",
       "  </thead>\n",
       "  <tbody>\n",
       "    <tr>\n",
       "      <th>0</th>\n",
       "      <td>0</td>\n",
       "      <td>NaN</td>\n",
       "    </tr>\n",
       "    <tr>\n",
       "      <th>1</th>\n",
       "      <td>1</td>\n",
       "      <td>5.142857</td>\n",
       "    </tr>\n",
       "    <tr>\n",
       "      <th>2</th>\n",
       "      <td>2</td>\n",
       "      <td>-0.857144</td>\n",
       "    </tr>\n",
       "    <tr>\n",
       "      <th>3</th>\n",
       "      <td>3</td>\n",
       "      <td>-0.142856</td>\n",
       "    </tr>\n",
       "    <tr>\n",
       "      <th>4</th>\n",
       "      <td>4</td>\n",
       "      <td>1.142856</td>\n",
       "    </tr>\n",
       "    <tr>\n",
       "      <th>...</th>\n",
       "      <td>...</td>\n",
       "      <td>...</td>\n",
       "    </tr>\n",
       "    <tr>\n",
       "      <th>21878</th>\n",
       "      <td>21878</td>\n",
       "      <td>-0.661726</td>\n",
       "    </tr>\n",
       "    <tr>\n",
       "      <th>21879</th>\n",
       "      <td>21879</td>\n",
       "      <td>5.755319</td>\n",
       "    </tr>\n",
       "    <tr>\n",
       "      <th>21880</th>\n",
       "      <td>21880</td>\n",
       "      <td>-4.138298</td>\n",
       "    </tr>\n",
       "    <tr>\n",
       "      <th>21881</th>\n",
       "      <td>21881</td>\n",
       "      <td>1.179536</td>\n",
       "    </tr>\n",
       "    <tr>\n",
       "      <th>21882</th>\n",
       "      <td>21882</td>\n",
       "      <td>-0.764045</td>\n",
       "    </tr>\n",
       "  </tbody>\n",
       "</table>\n",
       "<p>21883 rows × 2 columns</p>\n",
       "</div>"
      ],
      "text/plain": [
       "       index  MeanLight\n",
       "0          0        NaN\n",
       "1          1   5.142857\n",
       "2          2  -0.857144\n",
       "3          3  -0.142856\n",
       "4          4   1.142856\n",
       "...      ...        ...\n",
       "21878  21878  -0.661726\n",
       "21879  21879   5.755319\n",
       "21880  21880  -4.138298\n",
       "21881  21881   1.179536\n",
       "21882  21882  -0.764045\n",
       "\n",
       "[21883 rows x 2 columns]"
      ]
     },
     "execution_count": 28,
     "metadata": {},
     "output_type": "execute_result"
    }
   ],
   "source": [
    "train_df.groupby('PlaceID')['MeanLight'].diff(1).reset_index()"
   ]
  },
  {
   "cell_type": "code",
   "execution_count": 22,
   "metadata": {},
   "outputs": [
    {
     "data": {
      "text/plain": [
       "(21883,)"
      ]
     },
     "execution_count": 22,
     "metadata": {},
     "output_type": "execute_result"
    }
   ],
   "source": [
    "train_df.groupby('PlaceID')['MeanLight'].diff(1).shape"
   ]
  },
  {
   "cell_type": "code",
   "execution_count": 39,
   "metadata": {},
   "outputs": [],
   "source": [
    "# key毎の集約特徴量\n",
    "class GroupBlock(BaseBlock):\n",
    "    def __init__(self, key:str, function:str, target_col:list):\n",
    "        self.key = key\n",
    "        self.function = function\n",
    "        self.meta_df = None\n",
    "        self.target_col = target_col\n",
    "        \n",
    "    def transform(self, input_df):\n",
    "        _df = input_df[self.target_col].groupby(input_df[self.key])\n",
    "        # ここagg()のほうがわかりやすくね\n",
    "        agg = getattr(type(_df), self.function)\n",
    "        _df = agg(_df)\n",
    "        self.meta_df = _df\n",
    "        \n",
    "        out_df = pd.merge(input_df[self.key], self.meta_df, on=self.key, how='left').drop(columns=[self.key])\n",
    "        out_df = out_df.add_prefix(f'GE{self.function}_{self.key}_')\n",
    "        return out_df\n",
    "        "
   ]
  },
  {
   "cell_type": "code",
   "execution_count": 40,
   "metadata": {},
   "outputs": [
    {
     "data": {
      "text/html": [
       "<div>\n",
       "<style scoped>\n",
       "    .dataframe tbody tr th:only-of-type {\n",
       "        vertical-align: middle;\n",
       "    }\n",
       "\n",
       "    .dataframe tbody tr th {\n",
       "        vertical-align: top;\n",
       "    }\n",
       "\n",
       "    .dataframe thead th {\n",
       "        text-align: right;\n",
       "    }\n",
       "</style>\n",
       "<table border=\"1\" class=\"dataframe\">\n",
       "  <thead>\n",
       "    <tr style=\"text-align: right;\">\n",
       "      <th></th>\n",
       "      <th>GEmax_PlaceID_MeanLight</th>\n",
       "      <th>GEmax_PlaceID_SumLight</th>\n",
       "    </tr>\n",
       "  </thead>\n",
       "  <tbody>\n",
       "    <tr>\n",
       "      <th>0</th>\n",
       "      <td>62.857143</td>\n",
       "      <td>440.0</td>\n",
       "    </tr>\n",
       "    <tr>\n",
       "      <th>1</th>\n",
       "      <td>62.857143</td>\n",
       "      <td>440.0</td>\n",
       "    </tr>\n",
       "    <tr>\n",
       "      <th>2</th>\n",
       "      <td>62.857143</td>\n",
       "      <td>440.0</td>\n",
       "    </tr>\n",
       "    <tr>\n",
       "      <th>3</th>\n",
       "      <td>62.857143</td>\n",
       "      <td>440.0</td>\n",
       "    </tr>\n",
       "    <tr>\n",
       "      <th>4</th>\n",
       "      <td>62.857143</td>\n",
       "      <td>440.0</td>\n",
       "    </tr>\n",
       "    <tr>\n",
       "      <th>...</th>\n",
       "      <td>...</td>\n",
       "      <td>...</td>\n",
       "    </tr>\n",
       "    <tr>\n",
       "      <th>21878</th>\n",
       "      <td>16.734043</td>\n",
       "      <td>1573.0</td>\n",
       "    </tr>\n",
       "    <tr>\n",
       "      <th>21879</th>\n",
       "      <td>16.734043</td>\n",
       "      <td>1573.0</td>\n",
       "    </tr>\n",
       "    <tr>\n",
       "      <th>21880</th>\n",
       "      <td>16.734043</td>\n",
       "      <td>1573.0</td>\n",
       "    </tr>\n",
       "    <tr>\n",
       "      <th>21881</th>\n",
       "      <td>16.734043</td>\n",
       "      <td>1573.0</td>\n",
       "    </tr>\n",
       "    <tr>\n",
       "      <th>21882</th>\n",
       "      <td>16.734043</td>\n",
       "      <td>1573.0</td>\n",
       "    </tr>\n",
       "  </tbody>\n",
       "</table>\n",
       "<p>21883 rows × 2 columns</p>\n",
       "</div>"
      ],
      "text/plain": [
       "       GEmax_PlaceID_MeanLight  GEmax_PlaceID_SumLight\n",
       "0                    62.857143                   440.0\n",
       "1                    62.857143                   440.0\n",
       "2                    62.857143                   440.0\n",
       "3                    62.857143                   440.0\n",
       "4                    62.857143                   440.0\n",
       "...                        ...                     ...\n",
       "21878                16.734043                  1573.0\n",
       "21879                16.734043                  1573.0\n",
       "21880                16.734043                  1573.0\n",
       "21881                16.734043                  1573.0\n",
       "21882                16.734043                  1573.0\n",
       "\n",
       "[21883 rows x 2 columns]"
      ]
     },
     "execution_count": 40,
     "metadata": {},
     "output_type": "execute_result"
    }
   ],
   "source": [
    "lb = GroupBlock('PlaceID', 'max', ['MeanLight', 'SumLight'])\n",
    "lb.fit(train_df)"
   ]
  },
  {
   "cell_type": "code",
   "execution_count": 56,
   "metadata": {},
   "outputs": [],
   "source": [
    "class WrapperBlock(BaseBlock):\n",
    "    def __init__(self, function):\n",
    "        self.function=function\n",
    "        \n",
    "    def transform(self, input_df):\n",
    "        return self.function(input_df)"
   ]
  },
  {
   "cell_type": "code",
   "execution_count": 57,
   "metadata": {},
   "outputs": [],
   "source": [
    "from contextlib import contextmanager\n",
    "from time import time\n",
    "\n",
    "@contextmanager\n",
    "def timer(logger=None,format_str='{:.3f}[s]',prefix=None,suffix=None):\n",
    "    if prefix: format_str = str(prefix) + format_str\n",
    "    if suffix: format_str = format_str + str(suffix)\n",
    "    start = time()\n",
    "    yield\n",
    "    d = time()-start\n",
    "    out_str = format_str.format(d)\n",
    "    if logger:\n",
    "        logger.info(out_str)\n",
    "    else:\n",
    "        print(out_str)"
   ]
  },
  {
   "cell_type": "code",
   "execution_count": 61,
   "metadata": {},
   "outputs": [],
   "source": [
    "from tqdm import tqdm\n",
    "\n",
    "def get_function(block, is_train):\n",
    "    s = mapping = {\n",
    "        True:'fit',\n",
    "        False:'transform'\n",
    "    }.get(is_train)\n",
    "    return getattr(block, s)\n",
    "\n",
    "def to_feature(input_df, blocks, is_train=False):\n",
    "    out_df = pd.DataFrame()\n",
    "    \n",
    "    for block in tqdm(blocks, total=len(blocks)):\n",
    "        func = get_function(block, is_train)\n",
    "        \n",
    "        with timer(prefix='create' + str(block) + ' '):\n",
    "            _df = func(input_df)\n",
    "            \n",
    "        assert len(_df) == len(input_df), func._name_\n",
    "        out_df = pd.concat([out_df, _df], axis=1)\n",
    "        \n",
    "    return out_df"
   ]
  },
  {
   "cell_type": "code",
   "execution_count": 62,
   "metadata": {},
   "outputs": [],
   "source": [
    "def create_some(df):\n",
    "    output_df = pd.DataFrame()\n",
    "    return output_df\n",
    "\n",
    "def identyty_function(input_df):\n",
    "    return input_df[use_col]"
   ]
  },
  {
   "cell_type": "code",
   "execution_count": 63,
   "metadata": {},
   "outputs": [
    {
     "name": "stderr",
     "output_type": "stream",
     "text": [
      " 12%|█▏        | 4/34 [00:00<00:01, 20.54it/s]"
     ]
    },
    {
     "name": "stdout",
     "output_type": "stream",
     "text": [
      "create<__main__.WrapperBlock object at 0x7f30b4125810> 0.001[s]\n",
      "create<__main__.GroupBlock object at 0x7f30b4125510> 0.006[s]\n",
      "create<__main__.GroupBlock object at 0x7f30b4125190> 0.004[s]\n",
      "create<__main__.LagBlock object at 0x7f30b4125d10> 0.180[s]\n",
      "create<__main__.LagBlock object at 0x7f30b4265350> 0.297[s]\n",
      "create<__main__.LagBlock object at 0x7f30b42651d0> 0.181[s]\n"
     ]
    },
    {
     "name": "stderr",
     "output_type": "stream",
     "text": [
      "\r",
      " 21%|██        | 7/34 [00:00<00:04,  6.44it/s]"
     ]
    },
    {
     "name": "stdout",
     "output_type": "stream",
     "text": [
      "create<__main__.LagBlock object at 0x7f30b4265450> 0.282[s]\n",
      "create<__main__.LagBlock object at 0x7f30b4265810> 0.186[s]\n"
     ]
    },
    {
     "name": "stderr",
     "output_type": "stream",
     "text": [
      " 29%|██▉       | 10/34 [00:01<00:04,  5.13it/s]"
     ]
    },
    {
     "name": "stdout",
     "output_type": "stream",
     "text": [
      "create<__main__.LagBlock object at 0x7f30b4265490> 0.379[s]\n",
      "create<__main__.LagBlock object at 0x7f30b4265950> 0.180[s]\n"
     ]
    },
    {
     "name": "stderr",
     "output_type": "stream",
     "text": [
      " 35%|███▌      | 12/34 [00:02<00:04,  4.82it/s]"
     ]
    },
    {
     "name": "stdout",
     "output_type": "stream",
     "text": [
      "create<__main__.LagBlock object at 0x7f30b4265250> 0.285[s]\n",
      "create<__main__.LagBlock object at 0x7f30b4265150> 0.181[s]\n"
     ]
    },
    {
     "name": "stderr",
     "output_type": "stream",
     "text": [
      " 41%|████      | 14/34 [00:02<00:04,  4.64it/s]"
     ]
    },
    {
     "name": "stdout",
     "output_type": "stream",
     "text": [
      "create<__main__.LagBlock object at 0x7f30b4265110> 0.283[s]\n",
      "create<__main__.LagBlock object at 0x7f30b42e3e10> 0.181[s]\n"
     ]
    },
    {
     "name": "stderr",
     "output_type": "stream",
     "text": [
      "\r",
      " 44%|████▍     | 15/34 [00:02<00:04,  4.26it/s]"
     ]
    },
    {
     "name": "stdout",
     "output_type": "stream",
     "text": [
      "create<__main__.LagBlock object at 0x7f30b42e3550> 0.283[s]\n"
     ]
    },
    {
     "name": "stderr",
     "output_type": "stream",
     "text": [
      " 50%|█████     | 17/34 [00:03<00:03,  4.38it/s]"
     ]
    },
    {
     "name": "stdout",
     "output_type": "stream",
     "text": [
      "create<__main__.LagBlock object at 0x7f30b42e3b90> 0.273[s]\n",
      "create<__main__.LagBlock object at 0x7f30b3976650> 0.181[s]\n"
     ]
    },
    {
     "name": "stderr",
     "output_type": "stream",
     "text": [
      " 56%|█████▌    | 19/34 [00:03<00:03,  4.44it/s]"
     ]
    },
    {
     "name": "stdout",
     "output_type": "stream",
     "text": [
      "create<__main__.LagBlock object at 0x7f30b41bcbd0> 0.288[s]\n",
      "create<__main__.LagBlock object at 0x7f30b4309e10> 0.171[s]\n"
     ]
    },
    {
     "name": "stderr",
     "output_type": "stream",
     "text": [
      " 62%|██████▏   | 21/34 [00:04<00:02,  4.44it/s]"
     ]
    },
    {
     "name": "stdout",
     "output_type": "stream",
     "text": [
      "create<__main__.LagBlock object at 0x7f30b410f890> 0.277[s]\n",
      "create<__main__.LagBlock object at 0x7f30b3ff8ad0> 0.182[s]\n"
     ]
    },
    {
     "name": "stderr",
     "output_type": "stream",
     "text": [
      "\r",
      " 65%|██████▍   | 22/34 [00:04<00:02,  4.07it/s]"
     ]
    },
    {
     "name": "stdout",
     "output_type": "stream",
     "text": [
      "create<__main__.LagBlock object at 0x7f30b3ff8b10> 0.291[s]\n"
     ]
    },
    {
     "name": "stderr",
     "output_type": "stream",
     "text": [
      " 71%|███████   | 24/34 [00:05<00:02,  4.28it/s]"
     ]
    },
    {
     "name": "stdout",
     "output_type": "stream",
     "text": [
      "create<__main__.LagBlock object at 0x7f30b3afce90> 0.271[s]\n",
      "create<__main__.LagBlock object at 0x7f30b401f450> 0.183[s]\n"
     ]
    },
    {
     "name": "stderr",
     "output_type": "stream",
     "text": [
      " 76%|███████▋  | 26/34 [00:05<00:01,  4.31it/s]"
     ]
    },
    {
     "name": "stdout",
     "output_type": "stream",
     "text": [
      "create<__main__.LagBlock object at 0x7f30b401fb50> 0.289[s]\n",
      "create<__main__.LagBlock object at 0x7f30b401fed0> 0.182[s]\n"
     ]
    },
    {
     "name": "stderr",
     "output_type": "stream",
     "text": [
      " 82%|████████▏ | 28/34 [00:06<00:01,  4.30it/s]"
     ]
    },
    {
     "name": "stdout",
     "output_type": "stream",
     "text": [
      "create<__main__.LagBlock object at 0x7f30b401f750> 0.288[s]\n",
      "create<__main__.LagBlock object at 0x7f30b3afc190> 0.183[s]\n"
     ]
    },
    {
     "name": "stderr",
     "output_type": "stream",
     "text": [
      " 88%|████████▊ | 30/34 [00:06<00:00,  4.24it/s]"
     ]
    },
    {
     "name": "stdout",
     "output_type": "stream",
     "text": [
      "create<__main__.LagBlock object at 0x7f30b401f310> 0.300[s]\n",
      "create<__main__.LagBlock object at 0x7f30b401fa90> 0.186[s]\n"
     ]
    },
    {
     "name": "stderr",
     "output_type": "stream",
     "text": [
      " 94%|█████████▍| 32/34 [00:07<00:00,  3.93it/s]"
     ]
    },
    {
     "name": "stdout",
     "output_type": "stream",
     "text": [
      "create<__main__.LagBlock object at 0x7f30b401f790> 0.388[s]\n",
      "create<__main__.LagBlock object at 0x7f30b401f7d0> 0.183[s]\n"
     ]
    },
    {
     "name": "stderr",
     "output_type": "stream",
     "text": [
      "100%|██████████| 34/34 [00:07<00:00,  4.47it/s]\n",
      "  0%|          | 0/34 [00:00<?, ?it/s]"
     ]
    },
    {
     "name": "stdout",
     "output_type": "stream",
     "text": [
      "create<__main__.LagBlock object at 0x7f30b401fe90> 0.292[s]\n",
      "create<__main__.LagBlock object at 0x7f30b3b09e90> 0.182[s]\n",
      "create<__main__.WrapperBlock object at 0x7f30b4125810> 0.001[s]\n"
     ]
    },
    {
     "name": "stderr",
     "output_type": "stream",
     "text": [
      "\r",
      " 12%|█▏        | 4/34 [00:00<00:00, 33.71it/s]"
     ]
    },
    {
     "name": "stdout",
     "output_type": "stream",
     "text": [
      "create<__main__.GroupBlock object at 0x7f30b4125510> 0.006[s]\n",
      "create<__main__.GroupBlock object at 0x7f30b4125190> 0.004[s]\n",
      "create<__main__.LagBlock object at 0x7f30b4125d10> 0.105[s]\n",
      "create<__main__.LagBlock object at 0x7f30b4265350> 0.107[s]\n",
      "create<__main__.LagBlock object at 0x7f30b42651d0> 0.107[s]\n"
     ]
    },
    {
     "name": "stderr",
     "output_type": "stream",
     "text": [
      "\r",
      " 24%|██▎       | 8/34 [00:00<00:01, 13.14it/s]"
     ]
    },
    {
     "name": "stdout",
     "output_type": "stream",
     "text": [
      "create<__main__.LagBlock object at 0x7f30b4265450> 0.108[s]\n",
      "create<__main__.LagBlock object at 0x7f30b4265810> 0.108[s]\n"
     ]
    },
    {
     "name": "stderr",
     "output_type": "stream",
     "text": [
      "\r",
      " 29%|██▉       | 10/34 [00:00<00:02, 10.16it/s]"
     ]
    },
    {
     "name": "stdout",
     "output_type": "stream",
     "text": [
      "create<__main__.LagBlock object at 0x7f30b4265490> 0.106[s]\n",
      "create<__main__.LagBlock object at 0x7f30b4265950> 0.193[s]\n"
     ]
    },
    {
     "name": "stderr",
     "output_type": "stream",
     "text": [
      "\r",
      " 35%|███▌      | 12/34 [00:01<00:02,  8.53it/s]"
     ]
    },
    {
     "name": "stdout",
     "output_type": "stream",
     "text": [
      "create<__main__.LagBlock object at 0x7f30b4265250> 0.178[s]\n",
      "create<__main__.LagBlock object at 0x7f30b4265150> 0.142[s]\n"
     ]
    },
    {
     "name": "stderr",
     "output_type": "stream",
     "text": [
      "\r",
      " 41%|████      | 14/34 [00:01<00:02,  8.63it/s]"
     ]
    },
    {
     "name": "stdout",
     "output_type": "stream",
     "text": [
      "create<__main__.LagBlock object at 0x7f30b4265110> 0.117[s]\n",
      "create<__main__.LagBlock object at 0x7f30b42e3e10> 0.105[s]\n"
     ]
    },
    {
     "name": "stderr",
     "output_type": "stream",
     "text": [
      " 47%|████▋     | 16/34 [00:01<00:02,  8.81it/s]"
     ]
    },
    {
     "name": "stdout",
     "output_type": "stream",
     "text": [
      "create<__main__.LagBlock object at 0x7f30b42e3550> 0.108[s]\n",
      "create<__main__.LagBlock object at 0x7f30b42e3b90> 0.107[s]\n"
     ]
    },
    {
     "name": "stderr",
     "output_type": "stream",
     "text": [
      " 53%|█████▎    | 18/34 [00:01<00:01,  8.91it/s]"
     ]
    },
    {
     "name": "stdout",
     "output_type": "stream",
     "text": [
      "create<__main__.LagBlock object at 0x7f30b3976650> 0.107[s]\n",
      "create<__main__.LagBlock object at 0x7f30b41bcbd0> 0.109[s]\n"
     ]
    },
    {
     "name": "stderr",
     "output_type": "stream",
     "text": [
      " 59%|█████▉    | 20/34 [00:02<00:01,  8.99it/s]"
     ]
    },
    {
     "name": "stdout",
     "output_type": "stream",
     "text": [
      "create<__main__.LagBlock object at 0x7f30b4309e10> 0.107[s]\n",
      "create<__main__.LagBlock object at 0x7f30b410f890> 0.108[s]\n"
     ]
    },
    {
     "name": "stderr",
     "output_type": "stream",
     "text": [
      " 65%|██████▍   | 22/34 [00:02<00:01,  9.08it/s]"
     ]
    },
    {
     "name": "stdout",
     "output_type": "stream",
     "text": [
      "create<__main__.LagBlock object at 0x7f30b3ff8ad0> 0.107[s]\n",
      "create<__main__.LagBlock object at 0x7f30b3ff8b10> 0.106[s]\n"
     ]
    },
    {
     "name": "stderr",
     "output_type": "stream",
     "text": [
      "\r",
      " 68%|██████▊   | 23/34 [00:02<00:01,  9.06it/s]"
     ]
    },
    {
     "name": "stdout",
     "output_type": "stream",
     "text": [
      "create<__main__.LagBlock object at 0x7f30b3afce90> 0.108[s]\n",
      "create<__main__.LagBlock object at 0x7f30b401f450> 0.197[s]\n"
     ]
    },
    {
     "name": "stderr",
     "output_type": "stream",
     "text": [
      " 76%|███████▋  | 26/34 [00:02<00:00,  8.04it/s]"
     ]
    },
    {
     "name": "stdout",
     "output_type": "stream",
     "text": [
      "create<__main__.LagBlock object at 0x7f30b401fb50> 0.109[s]\n",
      "create<__main__.LagBlock object at 0x7f30b401fed0> 0.110[s]\n"
     ]
    },
    {
     "name": "stderr",
     "output_type": "stream",
     "text": [
      " 82%|████████▏ | 28/34 [00:03<00:00,  8.42it/s]"
     ]
    },
    {
     "name": "stdout",
     "output_type": "stream",
     "text": [
      "create<__main__.LagBlock object at 0x7f30b401f750> 0.109[s]\n",
      "create<__main__.LagBlock object at 0x7f30b3afc190> 0.111[s]\n"
     ]
    },
    {
     "name": "stderr",
     "output_type": "stream",
     "text": [
      " 88%|████████▊ | 30/34 [00:03<00:00,  8.77it/s]"
     ]
    },
    {
     "name": "stdout",
     "output_type": "stream",
     "text": [
      "create<__main__.LagBlock object at 0x7f30b401f310> 0.108[s]\n",
      "create<__main__.LagBlock object at 0x7f30b401fa90> 0.106[s]\n"
     ]
    },
    {
     "name": "stderr",
     "output_type": "stream",
     "text": [
      " 94%|█████████▍| 32/34 [00:03<00:00,  8.93it/s]"
     ]
    },
    {
     "name": "stdout",
     "output_type": "stream",
     "text": [
      "create<__main__.LagBlock object at 0x7f30b401f790> 0.107[s]\n",
      "create<__main__.LagBlock object at 0x7f30b401f7d0> 0.107[s]\n"
     ]
    },
    {
     "name": "stderr",
     "output_type": "stream",
     "text": [
      "100%|██████████| 34/34 [00:03<00:00,  9.18it/s]"
     ]
    },
    {
     "name": "stdout",
     "output_type": "stream",
     "text": [
      "create<__main__.LagBlock object at 0x7f30b401fe90> 0.108[s]\n",
      "create<__main__.LagBlock object at 0x7f30b3b09e90> 0.107[s]\n"
     ]
    },
    {
     "name": "stderr",
     "output_type": "stream",
     "text": [
      "\n"
     ]
    }
   ],
   "source": [
    "use_col = ['Year', 'MeanLight', 'SumLight']\n",
    "light_cols = ['MeanLight', 'SumLight']\n",
    "lag = 15\n",
    "process_blocks = [\n",
    "    WrapperBlock(identyty_function),\n",
    "    *[GroupBlock('PlaceID', func, light_cols) for func in ['std', 'sum']],\n",
    "    *[LagBlock(i, light_cols) for i in range(-lag,0)],\n",
    "    *[LagBlock(i, light_cols) for i in range(0, lag+1)],\n",
    "]\n",
    "\n",
    "train_feat_df = to_feature(train_df, process_blocks, is_train=True)\n",
    "test_feat_df = to_feature(test_df, process_blocks, is_train=False)"
   ]
  },
  {
   "cell_type": "code",
   "execution_count": 64,
   "metadata": {},
   "outputs": [
    {
     "data": {
      "text/html": [
       "<div>\n",
       "<style scoped>\n",
       "    .dataframe tbody tr th:only-of-type {\n",
       "        vertical-align: middle;\n",
       "    }\n",
       "\n",
       "    .dataframe tbody tr th {\n",
       "        vertical-align: top;\n",
       "    }\n",
       "\n",
       "    .dataframe thead th {\n",
       "        text-align: right;\n",
       "    }\n",
       "</style>\n",
       "<table border=\"1\" class=\"dataframe\">\n",
       "  <thead>\n",
       "    <tr style=\"text-align: right;\">\n",
       "      <th></th>\n",
       "      <th>Year</th>\n",
       "      <th>MeanLight</th>\n",
       "      <th>SumLight</th>\n",
       "      <th>GEstd_PlaceID_MeanLight</th>\n",
       "      <th>GEstd_PlaceID_SumLight</th>\n",
       "      <th>GEsum_PlaceID_MeanLight</th>\n",
       "      <th>GEsum_PlaceID_SumLight</th>\n",
       "      <th>Lag_-15MeanLight</th>\n",
       "      <th>Lag_-15SumLight</th>\n",
       "      <th>Lag_-14MeanLight</th>\n",
       "      <th>...</th>\n",
       "      <th>Lag_11MeanLight</th>\n",
       "      <th>Lag_11SumLight</th>\n",
       "      <th>Lag_12MeanLight</th>\n",
       "      <th>Lag_12SumLight</th>\n",
       "      <th>Lag_13MeanLight</th>\n",
       "      <th>Lag_13SumLight</th>\n",
       "      <th>Lag_14MeanLight</th>\n",
       "      <th>Lag_14SumLight</th>\n",
       "      <th>Lag_15MeanLight</th>\n",
       "      <th>Lag_15SumLight</th>\n",
       "    </tr>\n",
       "  </thead>\n",
       "  <tbody>\n",
       "    <tr>\n",
       "      <th>0</th>\n",
       "      <td>1993</td>\n",
       "      <td>57.571430</td>\n",
       "      <td>403.0</td>\n",
       "      <td>1.356480</td>\n",
       "      <td>9.495362</td>\n",
       "      <td>1279.571428</td>\n",
       "      <td>8957.0</td>\n",
       "      <td>-4.857140</td>\n",
       "      <td>-34.0</td>\n",
       "      <td>-3.571427</td>\n",
       "      <td>...</td>\n",
       "      <td>NaN</td>\n",
       "      <td>NaN</td>\n",
       "      <td>NaN</td>\n",
       "      <td>NaN</td>\n",
       "      <td>NaN</td>\n",
       "      <td>NaN</td>\n",
       "      <td>NaN</td>\n",
       "      <td>NaN</td>\n",
       "      <td>NaN</td>\n",
       "      <td>NaN</td>\n",
       "    </tr>\n",
       "    <tr>\n",
       "      <th>1</th>\n",
       "      <td>1994</td>\n",
       "      <td>62.714287</td>\n",
       "      <td>439.0</td>\n",
       "      <td>1.356480</td>\n",
       "      <td>9.495362</td>\n",
       "      <td>1279.571428</td>\n",
       "      <td>8957.0</td>\n",
       "      <td>3.714287</td>\n",
       "      <td>26.0</td>\n",
       "      <td>0.285717</td>\n",
       "      <td>...</td>\n",
       "      <td>NaN</td>\n",
       "      <td>NaN</td>\n",
       "      <td>NaN</td>\n",
       "      <td>NaN</td>\n",
       "      <td>NaN</td>\n",
       "      <td>NaN</td>\n",
       "      <td>NaN</td>\n",
       "      <td>NaN</td>\n",
       "      <td>NaN</td>\n",
       "      <td>NaN</td>\n",
       "    </tr>\n",
       "    <tr>\n",
       "      <th>2</th>\n",
       "      <td>1995</td>\n",
       "      <td>61.857143</td>\n",
       "      <td>433.0</td>\n",
       "      <td>1.356480</td>\n",
       "      <td>9.495362</td>\n",
       "      <td>1279.571428</td>\n",
       "      <td>8957.0</td>\n",
       "      <td>0.000000</td>\n",
       "      <td>0.0</td>\n",
       "      <td>2.857143</td>\n",
       "      <td>...</td>\n",
       "      <td>NaN</td>\n",
       "      <td>NaN</td>\n",
       "      <td>NaN</td>\n",
       "      <td>NaN</td>\n",
       "      <td>NaN</td>\n",
       "      <td>NaN</td>\n",
       "      <td>NaN</td>\n",
       "      <td>NaN</td>\n",
       "      <td>NaN</td>\n",
       "      <td>NaN</td>\n",
       "    </tr>\n",
       "    <tr>\n",
       "      <th>3</th>\n",
       "      <td>1996</td>\n",
       "      <td>61.714287</td>\n",
       "      <td>432.0</td>\n",
       "      <td>1.356480</td>\n",
       "      <td>9.495362</td>\n",
       "      <td>1279.571428</td>\n",
       "      <td>8957.0</td>\n",
       "      <td>0.428574</td>\n",
       "      <td>3.0</td>\n",
       "      <td>-0.142856</td>\n",
       "      <td>...</td>\n",
       "      <td>NaN</td>\n",
       "      <td>NaN</td>\n",
       "      <td>NaN</td>\n",
       "      <td>NaN</td>\n",
       "      <td>NaN</td>\n",
       "      <td>NaN</td>\n",
       "      <td>NaN</td>\n",
       "      <td>NaN</td>\n",
       "      <td>NaN</td>\n",
       "      <td>NaN</td>\n",
       "    </tr>\n",
       "    <tr>\n",
       "      <th>4</th>\n",
       "      <td>1997</td>\n",
       "      <td>62.857143</td>\n",
       "      <td>440.0</td>\n",
       "      <td>1.356480</td>\n",
       "      <td>9.495362</td>\n",
       "      <td>1279.571428</td>\n",
       "      <td>8957.0</td>\n",
       "      <td>1.857143</td>\n",
       "      <td>13.0</td>\n",
       "      <td>1.571430</td>\n",
       "      <td>...</td>\n",
       "      <td>NaN</td>\n",
       "      <td>NaN</td>\n",
       "      <td>NaN</td>\n",
       "      <td>NaN</td>\n",
       "      <td>NaN</td>\n",
       "      <td>NaN</td>\n",
       "      <td>NaN</td>\n",
       "      <td>NaN</td>\n",
       "      <td>NaN</td>\n",
       "      <td>NaN</td>\n",
       "    </tr>\n",
       "    <tr>\n",
       "      <th>...</th>\n",
       "      <td>...</td>\n",
       "      <td>...</td>\n",
       "      <td>...</td>\n",
       "      <td>...</td>\n",
       "      <td>...</td>\n",
       "      <td>...</td>\n",
       "      <td>...</td>\n",
       "      <td>...</td>\n",
       "      <td>...</td>\n",
       "      <td>...</td>\n",
       "      <td>...</td>\n",
       "      <td>...</td>\n",
       "      <td>...</td>\n",
       "      <td>...</td>\n",
       "      <td>...</td>\n",
       "      <td>...</td>\n",
       "      <td>...</td>\n",
       "      <td>...</td>\n",
       "      <td>...</td>\n",
       "      <td>...</td>\n",
       "      <td>...</td>\n",
       "    </tr>\n",
       "    <tr>\n",
       "      <th>21878</th>\n",
       "      <td>2009</td>\n",
       "      <td>10.978724</td>\n",
       "      <td>1032.0</td>\n",
       "      <td>1.747232</td>\n",
       "      <td>167.831942</td>\n",
       "      <td>261.319749</td>\n",
       "      <td>23459.0</td>\n",
       "      <td>NaN</td>\n",
       "      <td>NaN</td>\n",
       "      <td>NaN</td>\n",
       "      <td>...</td>\n",
       "      <td>-0.234759</td>\n",
       "      <td>34.0</td>\n",
       "      <td>0.158499</td>\n",
       "      <td>69.0</td>\n",
       "      <td>-1.920152</td>\n",
       "      <td>-116.0</td>\n",
       "      <td>-1.897681</td>\n",
       "      <td>-114.0</td>\n",
       "      <td>-2.538130</td>\n",
       "      <td>-171.0</td>\n",
       "    </tr>\n",
       "    <tr>\n",
       "      <th>21879</th>\n",
       "      <td>2010</td>\n",
       "      <td>16.734043</td>\n",
       "      <td>1573.0</td>\n",
       "      <td>1.747232</td>\n",
       "      <td>167.831942</td>\n",
       "      <td>261.319749</td>\n",
       "      <td>23459.0</td>\n",
       "      <td>NaN</td>\n",
       "      <td>NaN</td>\n",
       "      <td>NaN</td>\n",
       "      <td>...</td>\n",
       "      <td>5.340785</td>\n",
       "      <td>559.0</td>\n",
       "      <td>5.520560</td>\n",
       "      <td>575.0</td>\n",
       "      <td>5.913818</td>\n",
       "      <td>610.0</td>\n",
       "      <td>3.835167</td>\n",
       "      <td>425.0</td>\n",
       "      <td>3.857638</td>\n",
       "      <td>427.0</td>\n",
       "    </tr>\n",
       "    <tr>\n",
       "      <th>21880</th>\n",
       "      <td>2011</td>\n",
       "      <td>12.595745</td>\n",
       "      <td>1184.0</td>\n",
       "      <td>1.747232</td>\n",
       "      <td>167.831942</td>\n",
       "      <td>261.319749</td>\n",
       "      <td>23459.0</td>\n",
       "      <td>NaN</td>\n",
       "      <td>NaN</td>\n",
       "      <td>NaN</td>\n",
       "      <td>...</td>\n",
       "      <td>-0.752569</td>\n",
       "      <td>-4.0</td>\n",
       "      <td>1.202487</td>\n",
       "      <td>170.0</td>\n",
       "      <td>1.382262</td>\n",
       "      <td>186.0</td>\n",
       "      <td>1.775520</td>\n",
       "      <td>221.0</td>\n",
       "      <td>-0.303131</td>\n",
       "      <td>36.0</td>\n",
       "    </tr>\n",
       "    <tr>\n",
       "      <th>21881</th>\n",
       "      <td>2012</td>\n",
       "      <td>13.775281</td>\n",
       "      <td>1226.0</td>\n",
       "      <td>1.747232</td>\n",
       "      <td>167.831942</td>\n",
       "      <td>261.319749</td>\n",
       "      <td>23459.0</td>\n",
       "      <td>NaN</td>\n",
       "      <td>NaN</td>\n",
       "      <td>NaN</td>\n",
       "      <td>...</td>\n",
       "      <td>1.775281</td>\n",
       "      <td>158.0</td>\n",
       "      <td>0.426967</td>\n",
       "      <td>38.0</td>\n",
       "      <td>2.382023</td>\n",
       "      <td>212.0</td>\n",
       "      <td>2.561798</td>\n",
       "      <td>228.0</td>\n",
       "      <td>2.955056</td>\n",
       "      <td>263.0</td>\n",
       "    </tr>\n",
       "    <tr>\n",
       "      <th>21882</th>\n",
       "      <td>2013</td>\n",
       "      <td>13.011236</td>\n",
       "      <td>1158.0</td>\n",
       "      <td>1.747232</td>\n",
       "      <td>167.831942</td>\n",
       "      <td>261.319749</td>\n",
       "      <td>23459.0</td>\n",
       "      <td>NaN</td>\n",
       "      <td>NaN</td>\n",
       "      <td>NaN</td>\n",
       "      <td>...</td>\n",
       "      <td>0.842697</td>\n",
       "      <td>75.0</td>\n",
       "      <td>1.011236</td>\n",
       "      <td>90.0</td>\n",
       "      <td>-0.337078</td>\n",
       "      <td>-30.0</td>\n",
       "      <td>1.617978</td>\n",
       "      <td>144.0</td>\n",
       "      <td>1.797753</td>\n",
       "      <td>160.0</td>\n",
       "    </tr>\n",
       "  </tbody>\n",
       "</table>\n",
       "<p>21883 rows × 69 columns</p>\n",
       "</div>"
      ],
      "text/plain": [
       "       Year  MeanLight  SumLight  GEstd_PlaceID_MeanLight  \\\n",
       "0      1993  57.571430     403.0                 1.356480   \n",
       "1      1994  62.714287     439.0                 1.356480   \n",
       "2      1995  61.857143     433.0                 1.356480   \n",
       "3      1996  61.714287     432.0                 1.356480   \n",
       "4      1997  62.857143     440.0                 1.356480   \n",
       "...     ...        ...       ...                      ...   \n",
       "21878  2009  10.978724    1032.0                 1.747232   \n",
       "21879  2010  16.734043    1573.0                 1.747232   \n",
       "21880  2011  12.595745    1184.0                 1.747232   \n",
       "21881  2012  13.775281    1226.0                 1.747232   \n",
       "21882  2013  13.011236    1158.0                 1.747232   \n",
       "\n",
       "       GEstd_PlaceID_SumLight  GEsum_PlaceID_MeanLight  \\\n",
       "0                    9.495362              1279.571428   \n",
       "1                    9.495362              1279.571428   \n",
       "2                    9.495362              1279.571428   \n",
       "3                    9.495362              1279.571428   \n",
       "4                    9.495362              1279.571428   \n",
       "...                       ...                      ...   \n",
       "21878              167.831942               261.319749   \n",
       "21879              167.831942               261.319749   \n",
       "21880              167.831942               261.319749   \n",
       "21881              167.831942               261.319749   \n",
       "21882              167.831942               261.319749   \n",
       "\n",
       "       GEsum_PlaceID_SumLight  Lag_-15MeanLight  Lag_-15SumLight  \\\n",
       "0                      8957.0         -4.857140            -34.0   \n",
       "1                      8957.0          3.714287             26.0   \n",
       "2                      8957.0          0.000000              0.0   \n",
       "3                      8957.0          0.428574              3.0   \n",
       "4                      8957.0          1.857143             13.0   \n",
       "...                       ...               ...              ...   \n",
       "21878                 23459.0               NaN              NaN   \n",
       "21879                 23459.0               NaN              NaN   \n",
       "21880                 23459.0               NaN              NaN   \n",
       "21881                 23459.0               NaN              NaN   \n",
       "21882                 23459.0               NaN              NaN   \n",
       "\n",
       "       Lag_-14MeanLight  ...  Lag_11MeanLight  Lag_11SumLight  \\\n",
       "0             -3.571427  ...              NaN             NaN   \n",
       "1              0.285717  ...              NaN             NaN   \n",
       "2              2.857143  ...              NaN             NaN   \n",
       "3             -0.142856  ...              NaN             NaN   \n",
       "4              1.571430  ...              NaN             NaN   \n",
       "...                 ...  ...              ...             ...   \n",
       "21878               NaN  ...        -0.234759            34.0   \n",
       "21879               NaN  ...         5.340785           559.0   \n",
       "21880               NaN  ...        -0.752569            -4.0   \n",
       "21881               NaN  ...         1.775281           158.0   \n",
       "21882               NaN  ...         0.842697            75.0   \n",
       "\n",
       "       Lag_12MeanLight  Lag_12SumLight  Lag_13MeanLight  Lag_13SumLight  \\\n",
       "0                  NaN             NaN              NaN             NaN   \n",
       "1                  NaN             NaN              NaN             NaN   \n",
       "2                  NaN             NaN              NaN             NaN   \n",
       "3                  NaN             NaN              NaN             NaN   \n",
       "4                  NaN             NaN              NaN             NaN   \n",
       "...                ...             ...              ...             ...   \n",
       "21878         0.158499            69.0        -1.920152          -116.0   \n",
       "21879         5.520560           575.0         5.913818           610.0   \n",
       "21880         1.202487           170.0         1.382262           186.0   \n",
       "21881         0.426967            38.0         2.382023           212.0   \n",
       "21882         1.011236            90.0        -0.337078           -30.0   \n",
       "\n",
       "       Lag_14MeanLight  Lag_14SumLight  Lag_15MeanLight  Lag_15SumLight  \n",
       "0                  NaN             NaN              NaN             NaN  \n",
       "1                  NaN             NaN              NaN             NaN  \n",
       "2                  NaN             NaN              NaN             NaN  \n",
       "3                  NaN             NaN              NaN             NaN  \n",
       "4                  NaN             NaN              NaN             NaN  \n",
       "...                ...             ...              ...             ...  \n",
       "21878        -1.897681          -114.0        -2.538130          -171.0  \n",
       "21879         3.835167           425.0         3.857638           427.0  \n",
       "21880         1.775520           221.0        -0.303131            36.0  \n",
       "21881         2.561798           228.0         2.955056           263.0  \n",
       "21882         1.617978           144.0         1.797753           160.0  \n",
       "\n",
       "[21883 rows x 69 columns]"
      ]
     },
     "execution_count": 64,
     "metadata": {},
     "output_type": "execute_result"
    }
   ],
   "source": [
    "train_feat_df "
   ]
  },
  {
   "cell_type": "code",
   "execution_count": 65,
   "metadata": {},
   "outputs": [
    {
     "data": {
      "text/html": [
       "<div>\n",
       "<style scoped>\n",
       "    .dataframe tbody tr th:only-of-type {\n",
       "        vertical-align: middle;\n",
       "    }\n",
       "\n",
       "    .dataframe tbody tr th {\n",
       "        vertical-align: top;\n",
       "    }\n",
       "\n",
       "    .dataframe thead th {\n",
       "        text-align: right;\n",
       "    }\n",
       "</style>\n",
       "<table border=\"1\" class=\"dataframe\">\n",
       "  <thead>\n",
       "    <tr style=\"text-align: right;\">\n",
       "      <th></th>\n",
       "      <th>Year</th>\n",
       "      <th>MeanLight</th>\n",
       "      <th>SumLight</th>\n",
       "      <th>GEstd_PlaceID_MeanLight</th>\n",
       "      <th>GEstd_PlaceID_SumLight</th>\n",
       "      <th>GEsum_PlaceID_MeanLight</th>\n",
       "      <th>GEsum_PlaceID_SumLight</th>\n",
       "      <th>Lag_-15MeanLight</th>\n",
       "      <th>Lag_-15SumLight</th>\n",
       "      <th>Lag_-14MeanLight</th>\n",
       "      <th>...</th>\n",
       "      <th>Lag_11MeanLight</th>\n",
       "      <th>Lag_11SumLight</th>\n",
       "      <th>Lag_12MeanLight</th>\n",
       "      <th>Lag_12SumLight</th>\n",
       "      <th>Lag_13MeanLight</th>\n",
       "      <th>Lag_13SumLight</th>\n",
       "      <th>Lag_14MeanLight</th>\n",
       "      <th>Lag_14SumLight</th>\n",
       "      <th>Lag_15MeanLight</th>\n",
       "      <th>Lag_15SumLight</th>\n",
       "    </tr>\n",
       "  </thead>\n",
       "  <tbody>\n",
       "    <tr>\n",
       "      <th>0</th>\n",
       "      <td>1992</td>\n",
       "      <td>28.775862</td>\n",
       "      <td>3338.0</td>\n",
       "      <td>4.060932</td>\n",
       "      <td>471.942105</td>\n",
       "      <td>714.284557</td>\n",
       "      <td>82956.0</td>\n",
       "      <td>-2.827587</td>\n",
       "      <td>-328.0</td>\n",
       "      <td>2.077585</td>\n",
       "      <td>...</td>\n",
       "      <td>NaN</td>\n",
       "      <td>NaN</td>\n",
       "      <td>NaN</td>\n",
       "      <td>NaN</td>\n",
       "      <td>NaN</td>\n",
       "      <td>NaN</td>\n",
       "      <td>NaN</td>\n",
       "      <td>NaN</td>\n",
       "      <td>NaN</td>\n",
       "      <td>NaN</td>\n",
       "    </tr>\n",
       "    <tr>\n",
       "      <th>1</th>\n",
       "      <td>1993</td>\n",
       "      <td>36.948277</td>\n",
       "      <td>4286.0</td>\n",
       "      <td>4.060932</td>\n",
       "      <td>471.942105</td>\n",
       "      <td>714.284557</td>\n",
       "      <td>82956.0</td>\n",
       "      <td>6.758622</td>\n",
       "      <td>784.0</td>\n",
       "      <td>5.344828</td>\n",
       "      <td>...</td>\n",
       "      <td>NaN</td>\n",
       "      <td>NaN</td>\n",
       "      <td>NaN</td>\n",
       "      <td>NaN</td>\n",
       "      <td>NaN</td>\n",
       "      <td>NaN</td>\n",
       "      <td>NaN</td>\n",
       "      <td>NaN</td>\n",
       "      <td>NaN</td>\n",
       "      <td>NaN</td>\n",
       "    </tr>\n",
       "    <tr>\n",
       "      <th>2</th>\n",
       "      <td>1994</td>\n",
       "      <td>30.706896</td>\n",
       "      <td>3562.0</td>\n",
       "      <td>4.060932</td>\n",
       "      <td>471.942105</td>\n",
       "      <td>714.284557</td>\n",
       "      <td>82956.0</td>\n",
       "      <td>-0.404215</td>\n",
       "      <td>-78.0</td>\n",
       "      <td>0.517241</td>\n",
       "      <td>...</td>\n",
       "      <td>NaN</td>\n",
       "      <td>NaN</td>\n",
       "      <td>NaN</td>\n",
       "      <td>NaN</td>\n",
       "      <td>NaN</td>\n",
       "      <td>NaN</td>\n",
       "      <td>NaN</td>\n",
       "      <td>NaN</td>\n",
       "      <td>NaN</td>\n",
       "      <td>NaN</td>\n",
       "    </tr>\n",
       "    <tr>\n",
       "      <th>3</th>\n",
       "      <td>1995</td>\n",
       "      <td>36.543102</td>\n",
       "      <td>4239.0</td>\n",
       "      <td>4.060932</td>\n",
       "      <td>471.942105</td>\n",
       "      <td>714.284557</td>\n",
       "      <td>82956.0</td>\n",
       "      <td>1.081562</td>\n",
       "      <td>90.0</td>\n",
       "      <td>5.431991</td>\n",
       "      <td>...</td>\n",
       "      <td>NaN</td>\n",
       "      <td>NaN</td>\n",
       "      <td>NaN</td>\n",
       "      <td>NaN</td>\n",
       "      <td>NaN</td>\n",
       "      <td>NaN</td>\n",
       "      <td>NaN</td>\n",
       "      <td>NaN</td>\n",
       "      <td>NaN</td>\n",
       "      <td>NaN</td>\n",
       "    </tr>\n",
       "    <tr>\n",
       "      <th>4</th>\n",
       "      <td>1996</td>\n",
       "      <td>36.784481</td>\n",
       "      <td>4267.0</td>\n",
       "      <td>4.060932</td>\n",
       "      <td>471.942105</td>\n",
       "      <td>714.284557</td>\n",
       "      <td>82956.0</td>\n",
       "      <td>4.365677</td>\n",
       "      <td>474.0</td>\n",
       "      <td>1.322941</td>\n",
       "      <td>...</td>\n",
       "      <td>NaN</td>\n",
       "      <td>NaN</td>\n",
       "      <td>NaN</td>\n",
       "      <td>NaN</td>\n",
       "      <td>NaN</td>\n",
       "      <td>NaN</td>\n",
       "      <td>NaN</td>\n",
       "      <td>NaN</td>\n",
       "      <td>NaN</td>\n",
       "      <td>NaN</td>\n",
       "    </tr>\n",
       "    <tr>\n",
       "      <th>...</th>\n",
       "      <td>...</td>\n",
       "      <td>...</td>\n",
       "      <td>...</td>\n",
       "      <td>...</td>\n",
       "      <td>...</td>\n",
       "      <td>...</td>\n",
       "      <td>...</td>\n",
       "      <td>...</td>\n",
       "      <td>...</td>\n",
       "      <td>...</td>\n",
       "      <td>...</td>\n",
       "      <td>...</td>\n",
       "      <td>...</td>\n",
       "      <td>...</td>\n",
       "      <td>...</td>\n",
       "      <td>...</td>\n",
       "      <td>...</td>\n",
       "      <td>...</td>\n",
       "      <td>...</td>\n",
       "      <td>...</td>\n",
       "      <td>...</td>\n",
       "    </tr>\n",
       "    <tr>\n",
       "      <th>13855</th>\n",
       "      <td>2009</td>\n",
       "      <td>4.869198</td>\n",
       "      <td>1154.0</td>\n",
       "      <td>0.936043</td>\n",
       "      <td>229.779873</td>\n",
       "      <td>151.104494</td>\n",
       "      <td>36605.0</td>\n",
       "      <td>NaN</td>\n",
       "      <td>NaN</td>\n",
       "      <td>NaN</td>\n",
       "      <td>...</td>\n",
       "      <td>-1.418868</td>\n",
       "      <td>-374.0</td>\n",
       "      <td>-1.822160</td>\n",
       "      <td>-472.0</td>\n",
       "      <td>-2.488826</td>\n",
       "      <td>-634.0</td>\n",
       "      <td>-2.929155</td>\n",
       "      <td>-741.0</td>\n",
       "      <td>-2.130802</td>\n",
       "      <td>-547.0</td>\n",
       "    </tr>\n",
       "    <tr>\n",
       "      <th>13856</th>\n",
       "      <td>2010</td>\n",
       "      <td>7.839663</td>\n",
       "      <td>1858.0</td>\n",
       "      <td>0.936043</td>\n",
       "      <td>229.779873</td>\n",
       "      <td>151.104494</td>\n",
       "      <td>36605.0</td>\n",
       "      <td>NaN</td>\n",
       "      <td>NaN</td>\n",
       "      <td>NaN</td>\n",
       "      <td>...</td>\n",
       "      <td>1.041309</td>\n",
       "      <td>206.0</td>\n",
       "      <td>1.551597</td>\n",
       "      <td>330.0</td>\n",
       "      <td>1.148304</td>\n",
       "      <td>232.0</td>\n",
       "      <td>0.481638</td>\n",
       "      <td>70.0</td>\n",
       "      <td>0.041309</td>\n",
       "      <td>-37.0</td>\n",
       "    </tr>\n",
       "    <tr>\n",
       "      <th>13857</th>\n",
       "      <td>2011</td>\n",
       "      <td>6.189873</td>\n",
       "      <td>1467.0</td>\n",
       "      <td>0.936043</td>\n",
       "      <td>229.779873</td>\n",
       "      <td>151.104494</td>\n",
       "      <td>36605.0</td>\n",
       "      <td>NaN</td>\n",
       "      <td>NaN</td>\n",
       "      <td>NaN</td>\n",
       "      <td>...</td>\n",
       "      <td>-1.793666</td>\n",
       "      <td>-473.0</td>\n",
       "      <td>-0.608480</td>\n",
       "      <td>-185.0</td>\n",
       "      <td>-0.098193</td>\n",
       "      <td>-61.0</td>\n",
       "      <td>-0.501485</td>\n",
       "      <td>-159.0</td>\n",
       "      <td>-1.168151</td>\n",
       "      <td>-321.0</td>\n",
       "    </tr>\n",
       "    <tr>\n",
       "      <th>13858</th>\n",
       "      <td>2012</td>\n",
       "      <td>7.230452</td>\n",
       "      <td>1757.0</td>\n",
       "      <td>0.936043</td>\n",
       "      <td>229.779873</td>\n",
       "      <td>151.104494</td>\n",
       "      <td>36605.0</td>\n",
       "      <td>NaN</td>\n",
       "      <td>NaN</td>\n",
       "      <td>NaN</td>\n",
       "      <td>...</td>\n",
       "      <td>-1.201646</td>\n",
       "      <td>-292.0</td>\n",
       "      <td>-0.753087</td>\n",
       "      <td>-183.0</td>\n",
       "      <td>0.432099</td>\n",
       "      <td>105.0</td>\n",
       "      <td>0.942387</td>\n",
       "      <td>229.0</td>\n",
       "      <td>0.539094</td>\n",
       "      <td>131.0</td>\n",
       "    </tr>\n",
       "    <tr>\n",
       "      <th>13859</th>\n",
       "      <td>2013</td>\n",
       "      <td>7.794239</td>\n",
       "      <td>1894.0</td>\n",
       "      <td>0.936043</td>\n",
       "      <td>229.779873</td>\n",
       "      <td>151.104494</td>\n",
       "      <td>36605.0</td>\n",
       "      <td>NaN</td>\n",
       "      <td>NaN</td>\n",
       "      <td>NaN</td>\n",
       "      <td>...</td>\n",
       "      <td>-0.164609</td>\n",
       "      <td>-40.0</td>\n",
       "      <td>-0.637860</td>\n",
       "      <td>-155.0</td>\n",
       "      <td>-0.189301</td>\n",
       "      <td>-46.0</td>\n",
       "      <td>0.995885</td>\n",
       "      <td>242.0</td>\n",
       "      <td>1.506173</td>\n",
       "      <td>366.0</td>\n",
       "    </tr>\n",
       "  </tbody>\n",
       "</table>\n",
       "<p>13860 rows × 69 columns</p>\n",
       "</div>"
      ],
      "text/plain": [
       "       Year  MeanLight  SumLight  GEstd_PlaceID_MeanLight  \\\n",
       "0      1992  28.775862    3338.0                 4.060932   \n",
       "1      1993  36.948277    4286.0                 4.060932   \n",
       "2      1994  30.706896    3562.0                 4.060932   \n",
       "3      1995  36.543102    4239.0                 4.060932   \n",
       "4      1996  36.784481    4267.0                 4.060932   \n",
       "...     ...        ...       ...                      ...   \n",
       "13855  2009   4.869198    1154.0                 0.936043   \n",
       "13856  2010   7.839663    1858.0                 0.936043   \n",
       "13857  2011   6.189873    1467.0                 0.936043   \n",
       "13858  2012   7.230452    1757.0                 0.936043   \n",
       "13859  2013   7.794239    1894.0                 0.936043   \n",
       "\n",
       "       GEstd_PlaceID_SumLight  GEsum_PlaceID_MeanLight  \\\n",
       "0                  471.942105               714.284557   \n",
       "1                  471.942105               714.284557   \n",
       "2                  471.942105               714.284557   \n",
       "3                  471.942105               714.284557   \n",
       "4                  471.942105               714.284557   \n",
       "...                       ...                      ...   \n",
       "13855              229.779873               151.104494   \n",
       "13856              229.779873               151.104494   \n",
       "13857              229.779873               151.104494   \n",
       "13858              229.779873               151.104494   \n",
       "13859              229.779873               151.104494   \n",
       "\n",
       "       GEsum_PlaceID_SumLight  Lag_-15MeanLight  Lag_-15SumLight  \\\n",
       "0                     82956.0         -2.827587           -328.0   \n",
       "1                     82956.0          6.758622            784.0   \n",
       "2                     82956.0         -0.404215            -78.0   \n",
       "3                     82956.0          1.081562             90.0   \n",
       "4                     82956.0          4.365677            474.0   \n",
       "...                       ...               ...              ...   \n",
       "13855                 36605.0               NaN              NaN   \n",
       "13856                 36605.0               NaN              NaN   \n",
       "13857                 36605.0               NaN              NaN   \n",
       "13858                 36605.0               NaN              NaN   \n",
       "13859                 36605.0               NaN              NaN   \n",
       "\n",
       "       Lag_-14MeanLight  ...  Lag_11MeanLight  Lag_11SumLight  \\\n",
       "0              2.077585  ...              NaN             NaN   \n",
       "1              5.344828  ...              NaN             NaN   \n",
       "2              0.517241  ...              NaN             NaN   \n",
       "3              5.431991  ...              NaN             NaN   \n",
       "4              1.322941  ...              NaN             NaN   \n",
       "...                 ...  ...              ...             ...   \n",
       "13855               NaN  ...        -1.418868          -374.0   \n",
       "13856               NaN  ...         1.041309           206.0   \n",
       "13857               NaN  ...        -1.793666          -473.0   \n",
       "13858               NaN  ...        -1.201646          -292.0   \n",
       "13859               NaN  ...        -0.164609           -40.0   \n",
       "\n",
       "       Lag_12MeanLight  Lag_12SumLight  Lag_13MeanLight  Lag_13SumLight  \\\n",
       "0                  NaN             NaN              NaN             NaN   \n",
       "1                  NaN             NaN              NaN             NaN   \n",
       "2                  NaN             NaN              NaN             NaN   \n",
       "3                  NaN             NaN              NaN             NaN   \n",
       "4                  NaN             NaN              NaN             NaN   \n",
       "...                ...             ...              ...             ...   \n",
       "13855        -1.822160          -472.0        -2.488826          -634.0   \n",
       "13856         1.551597           330.0         1.148304           232.0   \n",
       "13857        -0.608480          -185.0        -0.098193           -61.0   \n",
       "13858        -0.753087          -183.0         0.432099           105.0   \n",
       "13859        -0.637860          -155.0        -0.189301           -46.0   \n",
       "\n",
       "       Lag_14MeanLight  Lag_14SumLight  Lag_15MeanLight  Lag_15SumLight  \n",
       "0                  NaN             NaN              NaN             NaN  \n",
       "1                  NaN             NaN              NaN             NaN  \n",
       "2                  NaN             NaN              NaN             NaN  \n",
       "3                  NaN             NaN              NaN             NaN  \n",
       "4                  NaN             NaN              NaN             NaN  \n",
       "...                ...             ...              ...             ...  \n",
       "13855        -2.929155          -741.0        -2.130802          -547.0  \n",
       "13856         0.481638            70.0         0.041309           -37.0  \n",
       "13857        -0.501485          -159.0        -1.168151          -321.0  \n",
       "13858         0.942387           229.0         0.539094           131.0  \n",
       "13859         0.995885           242.0         1.506173           366.0  \n",
       "\n",
       "[13860 rows x 69 columns]"
      ]
     },
     "execution_count": 65,
     "metadata": {},
     "output_type": "execute_result"
    }
   ],
   "source": [
    "test_feat_df"
   ]
  },
  {
   "cell_type": "code",
   "execution_count": 67,
   "metadata": {},
   "outputs": [],
   "source": [
    "from sklearn.model_selection import GroupKFold\n",
    "fold = GroupKFold(n_splits=5)\n",
    "cv = list(fold.split(train_df, target, train_df['PlaceID']))"
   ]
  },
  {
   "cell_type": "code",
   "execution_count": 68,
   "metadata": {},
   "outputs": [],
   "source": [
    "y = np.log1p(target)"
   ]
  },
  {
   "cell_type": "code",
   "execution_count": 69,
   "metadata": {},
   "outputs": [
    {
     "data": {
      "text/html": [
       "<style type='text/css'>\n",
       ".datatable table.frame { margin-bottom: 0; }\n",
       ".datatable table.frame thead { border-bottom: none; }\n",
       ".datatable table.frame tr.coltypes td {  color: #FFFFFF;  line-height: 6px;  padding: 0 0.5em;}\n",
       ".datatable .bool    { background: #DDDD99; }\n",
       ".datatable .object  { background: #565656; }\n",
       ".datatable .int     { background: #5D9E5D; }\n",
       ".datatable .float   { background: #4040CC; }\n",
       ".datatable .str     { background: #CC4040; }\n",
       ".datatable .row_index {  background: var(--jp-border-color3);  border-right: 1px solid var(--jp-border-color0);  color: var(--jp-ui-font-color3);  font-size: 9px;}\n",
       ".datatable .frame tr.coltypes .row_index {  background: var(--jp-border-color0);}\n",
       ".datatable th:nth-child(2) { padding-left: 12px; }\n",
       ".datatable .hellipsis {  color: var(--jp-cell-editor-border-color);}\n",
       ".datatable .vellipsis {  background: var(--jp-layout-color0);  color: var(--jp-cell-editor-border-color);}\n",
       ".datatable .na {  color: var(--jp-cell-editor-border-color);  font-size: 80%;}\n",
       ".datatable .footer { font-size: 9px; }\n",
       ".datatable .frame_dimensions {  background: var(--jp-border-color3);  border-top: 1px solid var(--jp-border-color0);  color: var(--jp-ui-font-color3);  display: inline-block;  opacity: 0.6;  padding: 1px 10px 1px 5px;}\n",
       "</style>\n"
      ],
      "text/plain": [
       "<IPython.core.display.HTML object>"
      ]
     },
     "metadata": {},
     "output_type": "display_data"
    }
   ],
   "source": [
    "import lightgbm as lgb\n",
    "import xgboost as xgb\n",
    "from catboost import CatBoost\n",
    "from catboost import Pool\n",
    "from sklearn.metrics import mean_squared_error\n",
    "from sklearn.linear_model import Ridge"
   ]
  },
  {
   "cell_type": "code",
   "execution_count": 70,
   "metadata": {},
   "outputs": [],
   "source": [
    "from abc import abstractmethod\n",
    "class Base_Model(object):\n",
    "    @abstractmethod\n",
    "    def fit(self, x_train, y_train, x_valid, y_valid):\n",
    "        raise NotImplementedError\n",
    "        \n",
    "    @abstractmethod\n",
    "    def predict(self, model, features):\n",
    "        raise NotImplementedError\n",
    "        \n",
    "    def cv(self, y_train, train_features, test_features, fold_ids):\n",
    "        test_preds = np.zeros(len(test_features))\n",
    "        oof_preds = np.zeros(len(train_features))\n",
    "        \n",
    "        for i_fold, (trn_idx, val_idx) in enumerate(fold_ids):\n",
    "            x_trn = train_features.iloc[trn_idx]\n",
    "            y_trn = y_train[trn_idx]\n",
    "            x_val = train_features.iloc[val_idx]\n",
    "            y_val = y_train[val_idx]\n",
    "            \n",
    "            model = self.fit(x_trn, y_trn, x_val, y_val)\n",
    "            \n",
    "            oof_preds[val_idx] = self.predict(model, x_val, y_val)\n",
    "            oof_socre = np.sqrt(mean_squared_error(y_val, oof_preds[val_idx]))\n",
    "            print(f'fold{i_fold}:RMSLE{oof_score}')\n",
    "            test_preds += self.predict(model, test_features) / len(fold_ids)\n",
    "                                       \n",
    "        oof_score = np.sqrt(mean_squared_error(y_train, oof_preds))\n",
    "        print(f'oof_score:{oof_score}')\n",
    "        \n",
    "        evals_results = {'evals_result':{\n",
    "            'oof_score': oof_score,\n",
    "            'n_data': len(train_features),\n",
    "            'n_features': len(train_features.columns),\n",
    "        }}\n",
    "        \n",
    "        return oof_preds, test_preds, evals_results"
   ]
  },
  {
   "cell_type": "code",
   "execution_count": null,
   "metadata": {},
   "outputs": [],
   "source": [
    "cat_col = []\n",
    "\n",
    "class Lgbm(Base_Model):\n",
    "    def __inti__(self, model_params):\n",
    "        self.model_params = model_params\n",
    "        self.models = []\n",
    "        self.feature_cols = None\n",
    "        \n",
    "    def ift(self, x_train, y_train, x_valid, y_valid):\n",
    "        lgb_train = lgb.Dataset(x_train, y_train)\n",
    "        lgb_valid = lgb.Dataset(x_valid, y_valid)\n",
    "        \n",
    "        model = lgb.train(self.model_params,\n",
    "                          train_set=lgb_train,\n",
    "                          valid_sets=[lgb_valid],\n",
    "                          valid_names=['valid'],\n",
    "                          categorical_feature=cat_col,\n",
    "                          early_stopping_rounds=20,\n",
    "                          num_boost_round=10000,\n",
    "                          varbose_eval=False)\n",
    "        self.models.append(model)\n",
    "        return model\n",
    "    \n",
    "    def predict(self, model, features):\n",
    "        self.feature_cols = features.columns\n",
    "        return model.predict(features)\n",
    "    \n",
    "    def visualize_importance(self):\n",
    "        feature_importance_df = pd.DataFrame()\n",
    "        \n",
    "        for i, model in enumerate(self.models):\n",
    "            _df = pd.DataFrame()\n",
    "            _df['feature_importance'] = model.feature_importance(importance_tyep='gain')\n",
    "            _df['column'] = self.feature_cols\n",
    "            _df['fold'] = i+1\n",
    "            feature_importance_df = pd.concat([feature_importance_df, _df], axis=0, ignore_index=True)\n",
    "            "
   ]
  }
 ],
 "metadata": {
  "kernelspec": {
   "display_name": "Python 3",
   "language": "python",
   "name": "python3"
  },
  "language_info": {
   "codemirror_mode": {
    "name": "ipython",
    "version": 3
   },
   "file_extension": ".py",
   "mimetype": "text/x-python",
   "name": "python",
   "nbconvert_exporter": "python",
   "pygments_lexer": "ipython3",
   "version": "3.7.9"
  }
 },
 "nbformat": 4,
 "nbformat_minor": 4
}
